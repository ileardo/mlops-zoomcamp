{
 "cells": [
  {
   "cell_type": "code",
   "execution_count": 1,
   "id": "de6a361e-e1ff-4119-9bf1-bd735d32706e",
   "metadata": {},
   "outputs": [],
   "source": [
    "import os\n",
    "import uuid\n",
    "import pickle\n",
    "\n",
    "import pandas as pd\n",
    "\n",
    "\n",
    "\n",
    "from mlflow.tracking import MlflowClient\n",
    "import mlflow\n",
    "\n",
    "from sklearn.feature_extraction import DictVectorizer\n",
    "from sklearn.ensemble import RandomForestRegressor\n",
    "from sklearn.preprocessing import LabelEncoder\n",
    "from sklearn.metrics import mean_squared_error\n",
    "from sklearn.pipeline import make_pipeline"
   ]
  },
  {
   "cell_type": "markdown",
   "id": "9a5b7d41-9077-46ab-8f14-43f08d1d0aa1",
   "metadata": {},
   "source": [
    "## Variables"
   ]
  },
  {
   "cell_type": "code",
   "execution_count": 2,
   "id": "2b7da47c-f33a-4bd1-9b40-b35783b2a5fc",
   "metadata": {},
   "outputs": [
    {
     "data": {
      "text/plain": [
       "<Experiment: artifact_location='/workspaces/mlops-zoomcamp/04-deployment/03_batch_service/mlruns/1', creation_time=1741971924024, experiment_id='1', last_update_time=1741971924024, lifecycle_stage='active', name='nyc-taxi-experiment', tags={}>"
      ]
     },
     "execution_count": 2,
     "metadata": {},
     "output_type": "execute_result"
    }
   ],
   "source": [
    "year = 2024\n",
    "month = 1\n",
    "taxi_type = 'green'\n",
    "\n",
    "input_file = f'https://d37ci6vzurychx.cloudfront.net/trip-data/{taxi_type}_tripdata_{year:04d}-{month:02d}.parquet'\n",
    "output_file = f'output/{taxi_type}/{year:04d}-{month:02d}.parquet'\n",
    "\n",
    "RUN_ID = '40da67942f0740d7b27c002eb79f755e'\n",
    "\n",
    "MLFLOW_TRACKING_URI = 'http://localhost:5000'\n",
    "mlflow.set_tracking_uri('sqlite:///mlflow.db')\n",
    "mlflow.set_experiment('nyc-taxi-experiment')"
   ]
  },
  {
   "cell_type": "markdown",
   "id": "bc6e73da-45dd-4139-834a-1b871c012c29",
   "metadata": {},
   "source": [
    "## Functions"
   ]
  },
  {
   "cell_type": "markdown",
   "id": "0745d3ef-4303-47ac-abe4-b5dcc06e178c",
   "metadata": {},
   "source": [
    "### Generate unique uuid  \n",
    "Add unique uuid to link input records with output records"
   ]
  },
  {
   "cell_type": "code",
   "execution_count": 3,
   "id": "40ad25ad-0d75-4736-ac7a-e607caaba051",
   "metadata": {},
   "outputs": [],
   "source": [
    "def generate_uuids(n):\n",
    "    print('generating uuids ...')\n",
    "\n",
    "    ride_ids = []\n",
    "    for i in range(n):\n",
    "        ride_ids.append(str(uuid.uuid4()))\n",
    "    return ride_ids"
   ]
  },
  {
   "cell_type": "markdown",
   "id": "98d47932-e3d2-403d-9970-aa46e3b390d8",
   "metadata": {},
   "source": [
    "### Read dataframe  \n",
    "Read dataframe then add 'duration' and 'ride_id' features"
   ]
  },
  {
   "cell_type": "code",
   "execution_count": 4,
   "id": "d9c7c472-940c-40c8-9b58-99c46dbabb1c",
   "metadata": {},
   "outputs": [],
   "source": [
    "def read_dataframe(filename: str):\n",
    "    print('reading dataframe ...')\n",
    "    \n",
    "    df = pd.read_parquet(filename)\n",
    "\n",
    "    df['duration'] = df.lpep_dropoff_datetime - df.lpep_pickup_datetime\n",
    "    df.duration = df.duration.dt.total_seconds() / 60\n",
    "    df = df[(df.duration >= 1) & (df.duration <= 60)]\n",
    "    \n",
    "    df['ride_id'] = generate_uuids(len(df))\n",
    "\n",
    "    return df"
   ]
  },
  {
   "cell_type": "markdown",
   "id": "84a9911e-ba1a-4d23-b006-3fc820d6d689",
   "metadata": {},
   "source": [
    "### Prepare dictionaries  \n",
    "Create dictionaries"
   ]
  },
  {
   "cell_type": "code",
   "execution_count": 5,
   "id": "fc844420-2e6a-4bca-b46d-7d576b5b3369",
   "metadata": {},
   "outputs": [],
   "source": [
    "def prepare_dictionaries(df: pd.DataFrame):\n",
    "    print('preparing dictionaries ...')\n",
    "    \n",
    "    categorical = ['PULocationID', 'DOLocationID']\n",
    "    df[categorical] = df[categorical].astype(str)\n",
    "    \n",
    "    df['PU_DO'] = df['PULocationID'] + '_' + df['DOLocationID']\n",
    "\n",
    "    categorical = ['PU_DO']\n",
    "    numerical = ['trip_distance']\n",
    "    dicts = df[categorical + numerical].to_dict(orient='records')\n",
    "    return dicts"
   ]
  },
  {
   "cell_type": "markdown",
   "id": "1908b52c-d1bb-4b56-a81b-4420a090224f",
   "metadata": {},
   "source": [
    "### Load model  \n",
    "Load model stored in local db"
   ]
  },
  {
   "cell_type": "code",
   "execution_count": 6,
   "id": "5e1a24e5-dc6e-4efd-b064-4545c662f654",
   "metadata": {},
   "outputs": [],
   "source": [
    "def load_model(run_id):\n",
    "    print('loading models ...')\n",
    "    \n",
    "    logged_model = f'runs:/{run_id}/models_mlflow'\n",
    "    model = mlflow.pyfunc.load_model(logged_model)\n",
    "    return model"
   ]
  },
  {
   "cell_type": "markdown",
   "id": "c0e7f94c-7bee-4df8-8322-aa0beee3597f",
   "metadata": {},
   "source": [
    "### Apply model  \n",
    "Apply the model to dataframe and return dataframe of results"
   ]
  },
  {
   "cell_type": "code",
   "execution_count": 7,
   "id": "08cdeafa-3cd4-43a7-b6d6-1353a119abb9",
   "metadata": {},
   "outputs": [],
   "source": [
    "def apply_model(input_file, run_id, output_file):\n",
    "    df = read_dataframe(input_file)\n",
    "    dicts = prepare_dictionaries(df)\n",
    "\n",
    "    model = load_model(run_id)\n",
    "\n",
    "    print('predicting ...')\n",
    "\n",
    "    le = LabelEncoder()\n",
    "    df_input = pd.DataFrame(dicts)\n",
    "    df_input['PU_DO'] = le.fit_transform(df_input['PU_DO'])\n",
    "    y_pred = model.predict(df_input)\n",
    "\n",
    "    df_result = pd.DataFrame()\n",
    "    df_result['ride_id'] = df['ride_id']\n",
    "    df_result['lpep_pickup_datetime'] = df['lpep_pickup_datetime']\n",
    "    df_result['PULocationID'] = df['PULocationID']\n",
    "    df_result['DOLocationID'] = df['DOLocationID']\n",
    "    df_result['actual_duration'] = df['duration']\n",
    "    df_result['predicted_duration'] = y_pred\n",
    "    df_result['diff'] = df_result['actual_duration'] - df_result['predicted_duration']\n",
    "    df_result['model_version'] = run_id\n",
    "    \n",
    "    df_result.to_parquet(output_file, index=False)\n",
    "    print(f'results saved to {output_file}')"
   ]
  },
  {
   "cell_type": "markdown",
   "id": "fa4dc3c2-476b-4136-86be-682b35e4885c",
   "metadata": {},
   "source": [
    "## Run model"
   ]
  },
  {
   "cell_type": "code",
   "execution_count": 8,
   "id": "aedf46c6-553d-4900-a343-a34b1c6e1ae7",
   "metadata": {},
   "outputs": [
    {
     "name": "stdout",
     "output_type": "stream",
     "text": [
      "reading dataframe ...\n",
      "generating uuids ...\n",
      "preparing dictionaries ...\n",
      "loading models ...\n",
      "predicting ...\n",
      "results saved to output/green/2024-01.parquet\n"
     ]
    }
   ],
   "source": [
    "apply_model(input_file=input_file, run_id=RUN_ID, output_file=output_file)"
   ]
  },
  {
   "cell_type": "markdown",
   "id": "35f88673-8023-4551-a514-cea678d6bb7a",
   "metadata": {},
   "source": [
    "## Results"
   ]
  },
  {
   "cell_type": "code",
   "execution_count": 9,
   "id": "314d556c-6096-485b-8dba-35d414a25875",
   "metadata": {},
   "outputs": [
    {
     "data": {
      "text/html": [
       "<div>\n",
       "<style scoped>\n",
       "    .dataframe tbody tr th:only-of-type {\n",
       "        vertical-align: middle;\n",
       "    }\n",
       "\n",
       "    .dataframe tbody tr th {\n",
       "        vertical-align: top;\n",
       "    }\n",
       "\n",
       "    .dataframe thead th {\n",
       "        text-align: right;\n",
       "    }\n",
       "</style>\n",
       "<table border=\"1\" class=\"dataframe\">\n",
       "  <thead>\n",
       "    <tr style=\"text-align: right;\">\n",
       "      <th></th>\n",
       "      <th>ride_id</th>\n",
       "      <th>lpep_pickup_datetime</th>\n",
       "      <th>PULocationID</th>\n",
       "      <th>DOLocationID</th>\n",
       "      <th>actual_duration</th>\n",
       "      <th>predicted_duration</th>\n",
       "      <th>diff</th>\n",
       "      <th>model_version</th>\n",
       "    </tr>\n",
       "  </thead>\n",
       "  <tbody>\n",
       "    <tr>\n",
       "      <th>0</th>\n",
       "      <td>edbedf71-0c7c-47f8-887b-85699f4c5586</td>\n",
       "      <td>2024-01-01 00:46:55</td>\n",
       "      <td>236</td>\n",
       "      <td>239</td>\n",
       "      <td>11.500000</td>\n",
       "      <td>37.701515</td>\n",
       "      <td>-26.201515</td>\n",
       "      <td>40da67942f0740d7b27c002eb79f755e</td>\n",
       "    </tr>\n",
       "    <tr>\n",
       "      <th>1</th>\n",
       "      <td>b267fc37-481e-4cd2-b20e-05d4c2c355e0</td>\n",
       "      <td>2024-01-01 00:31:42</td>\n",
       "      <td>65</td>\n",
       "      <td>170</td>\n",
       "      <td>20.866667</td>\n",
       "      <td>37.701515</td>\n",
       "      <td>-16.834849</td>\n",
       "      <td>40da67942f0740d7b27c002eb79f755e</td>\n",
       "    </tr>\n",
       "    <tr>\n",
       "      <th>2</th>\n",
       "      <td>43ee7846-9e9a-4a2e-8b63-acd9d707d3a0</td>\n",
       "      <td>2024-01-01 00:30:21</td>\n",
       "      <td>74</td>\n",
       "      <td>262</td>\n",
       "      <td>19.033333</td>\n",
       "      <td>37.701515</td>\n",
       "      <td>-18.668182</td>\n",
       "      <td>40da67942f0740d7b27c002eb79f755e</td>\n",
       "    </tr>\n",
       "    <tr>\n",
       "      <th>3</th>\n",
       "      <td>e15fbdab-c21a-4f5b-b3a4-35f86ea5adfb</td>\n",
       "      <td>2024-01-01 00:30:20</td>\n",
       "      <td>74</td>\n",
       "      <td>116</td>\n",
       "      <td>11.866667</td>\n",
       "      <td>37.701515</td>\n",
       "      <td>-25.834849</td>\n",
       "      <td>40da67942f0740d7b27c002eb79f755e</td>\n",
       "    </tr>\n",
       "    <tr>\n",
       "      <th>4</th>\n",
       "      <td>82fbe8ee-b3d1-4fc3-8100-57972a1bf382</td>\n",
       "      <td>2024-01-01 00:32:38</td>\n",
       "      <td>74</td>\n",
       "      <td>243</td>\n",
       "      <td>10.983333</td>\n",
       "      <td>37.701515</td>\n",
       "      <td>-26.718182</td>\n",
       "      <td>40da67942f0740d7b27c002eb79f755e</td>\n",
       "    </tr>\n",
       "  </tbody>\n",
       "</table>\n",
       "</div>"
      ],
      "text/plain": [
       "                                ride_id lpep_pickup_datetime PULocationID  \\\n",
       "0  edbedf71-0c7c-47f8-887b-85699f4c5586  2024-01-01 00:46:55          236   \n",
       "1  b267fc37-481e-4cd2-b20e-05d4c2c355e0  2024-01-01 00:31:42           65   \n",
       "2  43ee7846-9e9a-4a2e-8b63-acd9d707d3a0  2024-01-01 00:30:21           74   \n",
       "3  e15fbdab-c21a-4f5b-b3a4-35f86ea5adfb  2024-01-01 00:30:20           74   \n",
       "4  82fbe8ee-b3d1-4fc3-8100-57972a1bf382  2024-01-01 00:32:38           74   \n",
       "\n",
       "  DOLocationID  actual_duration  predicted_duration       diff  \\\n",
       "0          239        11.500000           37.701515 -26.201515   \n",
       "1          170        20.866667           37.701515 -16.834849   \n",
       "2          262        19.033333           37.701515 -18.668182   \n",
       "3          116        11.866667           37.701515 -25.834849   \n",
       "4          243        10.983333           37.701515 -26.718182   \n",
       "\n",
       "                      model_version  \n",
       "0  40da67942f0740d7b27c002eb79f755e  \n",
       "1  40da67942f0740d7b27c002eb79f755e  \n",
       "2  40da67942f0740d7b27c002eb79f755e  \n",
       "3  40da67942f0740d7b27c002eb79f755e  \n",
       "4  40da67942f0740d7b27c002eb79f755e  "
      ]
     },
     "execution_count": 9,
     "metadata": {},
     "output_type": "execute_result"
    }
   ],
   "source": [
    "results = pd.read_parquet(output_file)\n",
    "results.head(5)"
   ]
  }
 ],
 "metadata": {
  "kernelspec": {
   "display_name": "Python 3 (ipykernel)",
   "language": "python",
   "name": "python3"
  },
  "language_info": {
   "codemirror_mode": {
    "name": "ipython",
    "version": 3
   },
   "file_extension": ".py",
   "mimetype": "text/x-python",
   "name": "python",
   "nbconvert_exporter": "python",
   "pygments_lexer": "ipython3",
   "version": "3.12.1"
  }
 },
 "nbformat": 4,
 "nbformat_minor": 5
}
