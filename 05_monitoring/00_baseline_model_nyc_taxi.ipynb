{
 "cells": [
  {
   "cell_type": "markdown",
   "id": "3099f6d2b0f92426",
   "metadata": {},
   "source": [
    "# Baseline model for batch monitoring"
   ]
  },
  {
   "cell_type": "code",
   "execution_count": 3,
   "id": "initial_id",
   "metadata": {
    "ExecuteTime": {
     "end_time": "2025-03-25T16:16:28.643569Z",
     "start_time": "2025-03-25T16:16:28.626694Z"
    },
    "collapsed": true,
    "jupyter": {
     "outputs_hidden": true
    }
   },
   "outputs": [],
   "source": [
    "import requests\n",
    "import pandas as pd\n",
    "\n",
    "from joblib import dump\n",
    "from tqdm import tqdm\n",
    "\n",
    "from sklearn.linear_model import LinearRegression\n",
    "from sklearn.metrics import mean_absolute_error\n"
   ]
  },
  {
   "cell_type": "markdown",
   "id": "1a312f2b9ef9294a",
   "metadata": {},
   "source": [
    "## Download data"
   ]
  },
  {
   "cell_type": "code",
   "execution_count": 7,
   "id": "5c4067d90aba9adf",
   "metadata": {
    "ExecuteTime": {
     "end_time": "2025-03-25T16:21:06.773163Z",
     "start_time": "2025-03-25T16:20:39.988012Z"
    }
   },
   "outputs": [
    {
     "name": "stdout",
     "output_type": "stream",
     "text": [
      "Download files:\n"
     ]
    },
    {
     "name": "stderr",
     "output_type": "stream",
     "text": [
      "green_tripdata_2022-02.parquet: 100%|██████████| 1428262/1428262 [00:12<00:00, 112509.96it/s, save to ./data/green_tripdata_2022-02.parquet]\n",
      "green_tripdata_2022-01.parquet: 100%|██████████| 1254291/1254291 [00:12<00:00, 98499.61it/s, save to ./data/green_tripdata_2022-01.parquet] \n"
     ]
    }
   ],
   "source": [
    "files = [('green_tripdata_2022-02.parquet', './data'), ('green_tripdata_2022-01.parquet', './data')]\n",
    "\n",
    "print(\"Download files:\")\n",
    "for file, path in files:\n",
    "    url=f\"https://d37ci6vzurychx.cloudfront.net/trip-data/{file}\"\n",
    "    resp=requests.get(url, stream=True)\n",
    "    save_path=f\"{path}/{file}\"\n",
    "    with open(save_path, \"wb\") as handle:\n",
    "        for data in tqdm(resp.iter_content(),\n",
    "                        desc=f\"{file}\",\n",
    "                        postfix=f\"save to {save_path}\",\n",
    "                        total=int(resp.headers[\"Content-Length\"])):\n",
    "            handle.write(data)"
   ]
  },
  {
   "cell_type": "markdown",
   "id": "50ee952dbf5dc36d",
   "metadata": {},
   "source": [
    "## Load data"
   ]
  },
  {
   "cell_type": "code",
   "execution_count": 8,
   "id": "a15463f7d783dfe5",
   "metadata": {
    "ExecuteTime": {
     "end_time": "2025-03-25T16:21:25.623627Z",
     "start_time": "2025-03-25T16:21:25.395151Z"
    }
   },
   "outputs": [],
   "source": [
    "jan_data = pd.read_parquet('data/green_tripdata_2022-01.parquet')"
   ]
  },
  {
   "cell_type": "code",
   "execution_count": 9,
   "id": "60e18e33728026d",
   "metadata": {
    "ExecuteTime": {
     "end_time": "2025-03-25T16:21:46.546625Z",
     "start_time": "2025-03-25T16:21:46.412521Z"
    }
   },
   "outputs": [
    {
     "data": {
      "text/html": [
       "<div>\n",
       "<style scoped>\n",
       "    .dataframe tbody tr th:only-of-type {\n",
       "        vertical-align: middle;\n",
       "    }\n",
       "\n",
       "    .dataframe tbody tr th {\n",
       "        vertical-align: top;\n",
       "    }\n",
       "\n",
       "    .dataframe thead th {\n",
       "        text-align: right;\n",
       "    }\n",
       "</style>\n",
       "<table border=\"1\" class=\"dataframe\">\n",
       "  <thead>\n",
       "    <tr style=\"text-align: right;\">\n",
       "      <th></th>\n",
       "      <th>VendorID</th>\n",
       "      <th>lpep_pickup_datetime</th>\n",
       "      <th>lpep_dropoff_datetime</th>\n",
       "      <th>RatecodeID</th>\n",
       "      <th>PULocationID</th>\n",
       "      <th>DOLocationID</th>\n",
       "      <th>passenger_count</th>\n",
       "      <th>trip_distance</th>\n",
       "      <th>fare_amount</th>\n",
       "      <th>extra</th>\n",
       "      <th>mta_tax</th>\n",
       "      <th>tip_amount</th>\n",
       "      <th>tolls_amount</th>\n",
       "      <th>improvement_surcharge</th>\n",
       "      <th>total_amount</th>\n",
       "      <th>payment_type</th>\n",
       "      <th>trip_type</th>\n",
       "      <th>congestion_surcharge</th>\n",
       "    </tr>\n",
       "  </thead>\n",
       "  <tbody>\n",
       "    <tr>\n",
       "      <th>count</th>\n",
       "      <td>62495.000000</td>\n",
       "      <td>62495</td>\n",
       "      <td>62495</td>\n",
       "      <td>56200.000000</td>\n",
       "      <td>62495.000000</td>\n",
       "      <td>62495.000000</td>\n",
       "      <td>56200.000000</td>\n",
       "      <td>62495.000000</td>\n",
       "      <td>62495.000000</td>\n",
       "      <td>62495.00000</td>\n",
       "      <td>62495.000000</td>\n",
       "      <td>62495.000000</td>\n",
       "      <td>62495.000000</td>\n",
       "      <td>62495.000000</td>\n",
       "      <td>62495.000000</td>\n",
       "      <td>56200.000000</td>\n",
       "      <td>56200.000000</td>\n",
       "      <td>56200.000000</td>\n",
       "    </tr>\n",
       "    <tr>\n",
       "      <th>mean</th>\n",
       "      <td>1.849508</td>\n",
       "      <td>2022-01-16 14:18:36.026354</td>\n",
       "      <td>2022-01-16 14:37:37.189551</td>\n",
       "      <td>1.198719</td>\n",
       "      <td>97.615041</td>\n",
       "      <td>135.969902</td>\n",
       "      <td>1.258399</td>\n",
       "      <td>77.758632</td>\n",
       "      <td>13.914000</td>\n",
       "      <td>0.34756</td>\n",
       "      <td>0.426322</td>\n",
       "      <td>1.666540</td>\n",
       "      <td>0.208182</td>\n",
       "      <td>0.297312</td>\n",
       "      <td>17.490532</td>\n",
       "      <td>1.403594</td>\n",
       "      <td>1.040925</td>\n",
       "      <td>0.706628</td>\n",
       "    </tr>\n",
       "    <tr>\n",
       "      <th>min</th>\n",
       "      <td>1.000000</td>\n",
       "      <td>2009-01-01 00:34:01</td>\n",
       "      <td>2009-01-01 17:05:20</td>\n",
       "      <td>1.000000</td>\n",
       "      <td>1.000000</td>\n",
       "      <td>1.000000</td>\n",
       "      <td>0.000000</td>\n",
       "      <td>0.000000</td>\n",
       "      <td>-65.000000</td>\n",
       "      <td>-4.50000</td>\n",
       "      <td>-0.500000</td>\n",
       "      <td>-0.860000</td>\n",
       "      <td>-6.550000</td>\n",
       "      <td>-0.300000</td>\n",
       "      <td>-71.850000</td>\n",
       "      <td>1.000000</td>\n",
       "      <td>1.000000</td>\n",
       "      <td>0.000000</td>\n",
       "    </tr>\n",
       "    <tr>\n",
       "      <th>50%</th>\n",
       "      <td>2.000000</td>\n",
       "      <td>2022-01-16 15:59:42</td>\n",
       "      <td>2022-01-16 16:17:00</td>\n",
       "      <td>1.000000</td>\n",
       "      <td>75.000000</td>\n",
       "      <td>137.000000</td>\n",
       "      <td>1.000000</td>\n",
       "      <td>1.900000</td>\n",
       "      <td>10.500000</td>\n",
       "      <td>0.00000</td>\n",
       "      <td>0.500000</td>\n",
       "      <td>1.000000</td>\n",
       "      <td>0.000000</td>\n",
       "      <td>0.300000</td>\n",
       "      <td>13.860000</td>\n",
       "      <td>1.000000</td>\n",
       "      <td>1.000000</td>\n",
       "      <td>0.000000</td>\n",
       "    </tr>\n",
       "    <tr>\n",
       "      <th>95%</th>\n",
       "      <td>2.000000</td>\n",
       "      <td>2022-01-30 14:16:16.200000</td>\n",
       "      <td>2022-01-30 14:32:46</td>\n",
       "      <td>2.000000</td>\n",
       "      <td>244.000000</td>\n",
       "      <td>260.000000</td>\n",
       "      <td>3.000000</td>\n",
       "      <td>8.463000</td>\n",
       "      <td>35.000000</td>\n",
       "      <td>1.00000</td>\n",
       "      <td>0.500000</td>\n",
       "      <td>5.710000</td>\n",
       "      <td>0.000000</td>\n",
       "      <td>0.300000</td>\n",
       "      <td>41.350000</td>\n",
       "      <td>2.000000</td>\n",
       "      <td>1.000000</td>\n",
       "      <td>2.750000</td>\n",
       "    </tr>\n",
       "    <tr>\n",
       "      <th>99%</th>\n",
       "      <td>2.000000</td>\n",
       "      <td>2022-01-31 17:31:33.680000</td>\n",
       "      <td>2022-01-31 17:50:49.660000</td>\n",
       "      <td>5.000000</td>\n",
       "      <td>260.000000</td>\n",
       "      <td>264.000000</td>\n",
       "      <td>6.000000</td>\n",
       "      <td>15.561200</td>\n",
       "      <td>57.500000</td>\n",
       "      <td>3.25000</td>\n",
       "      <td>0.500000</td>\n",
       "      <td>10.000000</td>\n",
       "      <td>6.550000</td>\n",
       "      <td>0.300000</td>\n",
       "      <td>67.010600</td>\n",
       "      <td>2.000000</td>\n",
       "      <td>2.000000</td>\n",
       "      <td>2.750000</td>\n",
       "    </tr>\n",
       "    <tr>\n",
       "      <th>max</th>\n",
       "      <td>2.000000</td>\n",
       "      <td>2022-01-31 23:57:37</td>\n",
       "      <td>2022-02-01 21:01:54</td>\n",
       "      <td>5.000000</td>\n",
       "      <td>265.000000</td>\n",
       "      <td>265.000000</td>\n",
       "      <td>8.000000</td>\n",
       "      <td>224481.380000</td>\n",
       "      <td>604.500000</td>\n",
       "      <td>4.50000</td>\n",
       "      <td>0.500000</td>\n",
       "      <td>76.770000</td>\n",
       "      <td>44.750000</td>\n",
       "      <td>0.300000</td>\n",
       "      <td>605.300000</td>\n",
       "      <td>5.000000</td>\n",
       "      <td>2.000000</td>\n",
       "      <td>2.750000</td>\n",
       "    </tr>\n",
       "    <tr>\n",
       "      <th>std</th>\n",
       "      <td>0.357556</td>\n",
       "      <td>NaN</td>\n",
       "      <td>NaN</td>\n",
       "      <td>0.862313</td>\n",
       "      <td>62.987311</td>\n",
       "      <td>77.590956</td>\n",
       "      <td>0.877743</td>\n",
       "      <td>2909.354163</td>\n",
       "      <td>12.088819</td>\n",
       "      <td>0.65781</td>\n",
       "      <td>0.181381</td>\n",
       "      <td>2.484928</td>\n",
       "      <td>1.257659</td>\n",
       "      <td>0.037201</td>\n",
       "      <td>13.623416</td>\n",
       "      <td>0.516316</td>\n",
       "      <td>0.198119</td>\n",
       "      <td>1.201632</td>\n",
       "    </tr>\n",
       "  </tbody>\n",
       "</table>\n",
       "</div>"
      ],
      "text/plain": [
       "           VendorID        lpep_pickup_datetime       lpep_dropoff_datetime  \\\n",
       "count  62495.000000                       62495                       62495   \n",
       "mean       1.849508  2022-01-16 14:18:36.026354  2022-01-16 14:37:37.189551   \n",
       "min        1.000000         2009-01-01 00:34:01         2009-01-01 17:05:20   \n",
       "50%        2.000000         2022-01-16 15:59:42         2022-01-16 16:17:00   \n",
       "95%        2.000000  2022-01-30 14:16:16.200000         2022-01-30 14:32:46   \n",
       "99%        2.000000  2022-01-31 17:31:33.680000  2022-01-31 17:50:49.660000   \n",
       "max        2.000000         2022-01-31 23:57:37         2022-02-01 21:01:54   \n",
       "std        0.357556                         NaN                         NaN   \n",
       "\n",
       "         RatecodeID  PULocationID  DOLocationID  passenger_count  \\\n",
       "count  56200.000000  62495.000000  62495.000000     56200.000000   \n",
       "mean       1.198719     97.615041    135.969902         1.258399   \n",
       "min        1.000000      1.000000      1.000000         0.000000   \n",
       "50%        1.000000     75.000000    137.000000         1.000000   \n",
       "95%        2.000000    244.000000    260.000000         3.000000   \n",
       "99%        5.000000    260.000000    264.000000         6.000000   \n",
       "max        5.000000    265.000000    265.000000         8.000000   \n",
       "std        0.862313     62.987311     77.590956         0.877743   \n",
       "\n",
       "       trip_distance   fare_amount        extra       mta_tax    tip_amount  \\\n",
       "count   62495.000000  62495.000000  62495.00000  62495.000000  62495.000000   \n",
       "mean       77.758632     13.914000      0.34756      0.426322      1.666540   \n",
       "min         0.000000    -65.000000     -4.50000     -0.500000     -0.860000   \n",
       "50%         1.900000     10.500000      0.00000      0.500000      1.000000   \n",
       "95%         8.463000     35.000000      1.00000      0.500000      5.710000   \n",
       "99%        15.561200     57.500000      3.25000      0.500000     10.000000   \n",
       "max    224481.380000    604.500000      4.50000      0.500000     76.770000   \n",
       "std      2909.354163     12.088819      0.65781      0.181381      2.484928   \n",
       "\n",
       "       tolls_amount  improvement_surcharge  total_amount  payment_type  \\\n",
       "count  62495.000000           62495.000000  62495.000000  56200.000000   \n",
       "mean       0.208182               0.297312     17.490532      1.403594   \n",
       "min       -6.550000              -0.300000    -71.850000      1.000000   \n",
       "50%        0.000000               0.300000     13.860000      1.000000   \n",
       "95%        0.000000               0.300000     41.350000      2.000000   \n",
       "99%        6.550000               0.300000     67.010600      2.000000   \n",
       "max       44.750000               0.300000    605.300000      5.000000   \n",
       "std        1.257659               0.037201     13.623416      0.516316   \n",
       "\n",
       "          trip_type  congestion_surcharge  \n",
       "count  56200.000000          56200.000000  \n",
       "mean       1.040925              0.706628  \n",
       "min        1.000000              0.000000  \n",
       "50%        1.000000              0.000000  \n",
       "95%        1.000000              2.750000  \n",
       "99%        2.000000              2.750000  \n",
       "max        2.000000              2.750000  \n",
       "std        0.198119              1.201632  "
      ]
     },
     "execution_count": 9,
     "metadata": {},
     "output_type": "execute_result"
    }
   ],
   "source": [
    "jan_data.describe(percentiles=[0.95, 0.99])"
   ]
  },
  {
   "cell_type": "code",
   "execution_count": 11,
   "id": "f210d84d35bffab2",
   "metadata": {
    "ExecuteTime": {
     "end_time": "2025-03-25T16:23:24.381588Z",
     "start_time": "2025-03-25T16:23:24.362575Z"
    }
   },
   "outputs": [
    {
     "data": {
      "text/plain": [
       "(62495, 20)"
      ]
     },
     "execution_count": 11,
     "metadata": {},
     "output_type": "execute_result"
    }
   ],
   "source": [
    "jan_data.shape"
   ]
  },
  {
   "cell_type": "markdown",
   "id": "2adc9110c64e44d0",
   "metadata": {},
   "source": [
    "## Preprocess data"
   ]
  },
  {
   "cell_type": "markdown",
   "id": "c7686d2a0f2034bf",
   "metadata": {},
   "source": [
    "### Create target variable"
   ]
  },
  {
   "cell_type": "code",
   "execution_count": 12,
   "id": "76aca77a3439498f",
   "metadata": {
    "ExecuteTime": {
     "end_time": "2025-03-25T16:24:19.653361Z",
     "start_time": "2025-03-25T16:24:19.350474Z"
    }
   },
   "outputs": [],
   "source": [
    "jan_data[\"duration_min\"] = jan_data.lpep_dropoff_datetime - jan_data.lpep_pickup_datetime\n",
    "jan_data.duration_min = jan_data.duration_min.apply(lambda td : float(td.total_seconds())/60)"
   ]
  },
  {
   "cell_type": "markdown",
   "id": "3c7dac1578f1e339",
   "metadata": {},
   "source": [
    "### Filter outliers"
   ]
  },
  {
   "cell_type": "code",
   "execution_count": 13,
   "id": "b0a2a1f50de0d955",
   "metadata": {
    "ExecuteTime": {
     "end_time": "2025-03-25T16:24:42.698813Z",
     "start_time": "2025-03-25T16:24:42.645458Z"
    }
   },
   "outputs": [],
   "source": [
    "jan_data = jan_data[(jan_data.duration_min >= 0) & (jan_data.duration_min <= 60)]\n",
    "jan_data = jan_data[(jan_data.passenger_count > 0) & (jan_data.passenger_count <= 8)]"
   ]
  },
  {
   "cell_type": "markdown",
   "id": "d6915f95bf402c52",
   "metadata": {},
   "source": [
    "## Plot"
   ]
  },
  {
   "cell_type": "code",
   "execution_count": 14,
   "id": "a9436bd19cbb7be3",
   "metadata": {
    "ExecuteTime": {
     "end_time": "2025-03-25T16:25:03.787352Z",
     "start_time": "2025-03-25T16:25:02.404936Z"
    }
   },
   "outputs": [
    {
     "data": {
      "text/plain": [
       "<Axes: >"
      ]
     },
     "execution_count": 14,
     "metadata": {},
     "output_type": "execute_result"
    },
    {
     "data": {
      "image/png": "[encoded data removed]",
      "text/plain": [
       "<Figure size 640x480 with 1 Axes>"
      ]
     },
     "metadata": {},
     "output_type": "display_data"
    }
   ],
   "source": [
    "jan_data.duration_min.hist()"
   ]
  },
  {
   "cell_type": "markdown",
   "id": "5cf175ba66e2749e",
   "metadata": {},
   "source": [
    "## Labeling"
   ]
  },
  {
   "cell_type": "code",
   "execution_count": 17,
   "id": "df708c614985b957",
   "metadata": {
    "ExecuteTime": {
     "end_time": "2025-03-25T16:27:02.316834Z",
     "start_time": "2025-03-25T16:27:02.310995Z"
    }
   },
   "outputs": [],
   "source": [
    "target = \"duration_min\"\n",
    "num_features = [\"passenger_count\", \"trip_distance\", \"fare_amount\", \"total_amount\"]\n",
    "cat_features = [\"PULocationID\", \"DOLocationID\"]"
   ]
  },
  {
   "cell_type": "code",
   "execution_count": 18,
   "id": "58ebf3a5097c14e9",
   "metadata": {
    "ExecuteTime": {
     "end_time": "2025-03-25T16:27:18.020289Z",
     "start_time": "2025-03-25T16:27:18.012234Z"
    }
   },
   "outputs": [
    {
     "data": {
      "text/plain": [
       "(55211, 21)"
      ]
     },
     "execution_count": 18,
     "metadata": {},
     "output_type": "execute_result"
    }
   ],
   "source": [
    "jan_data.shape"
   ]
  },
  {
   "cell_type": "markdown",
   "id": "5e0b1007d0e9ea3c",
   "metadata": {},
   "source": [
    "## Split data"
   ]
  },
  {
   "cell_type": "code",
   "execution_count": 23,
   "id": "d8f899a665aa6022",
   "metadata": {
    "ExecuteTime": {
     "end_time": "2025-03-25T16:28:34.513986Z",
     "start_time": "2025-03-25T16:28:34.478238Z"
    }
   },
   "outputs": [
    {
     "data": {
      "text/plain": [
       "((38648, 21), (16563, 21))"
      ]
     },
     "execution_count": 23,
     "metadata": {},
     "output_type": "execute_result"
    }
   ],
   "source": [
    "train_data = jan_data.sample(frac=0.7, random_state=42)\n",
    "val_data = jan_data.drop(train_data.index)\n",
    "train_data.shape, val_data.shape"
   ]
  },
  {
   "cell_type": "markdown",
   "id": "c5c83a5d4c073f7d",
   "metadata": {},
   "source": [
    "## Train model"
   ]
  },
  {
   "cell_type": "code",
   "execution_count": 24,
   "id": "8bb2cd72327e2ae0",
   "metadata": {
    "ExecuteTime": {
     "end_time": "2025-03-25T16:29:02.120425Z",
     "start_time": "2025-03-25T16:29:02.114279Z"
    }
   },
   "outputs": [],
   "source": [
    "model = LinearRegression()"
   ]
  },
  {
   "cell_type": "code",
   "execution_count": 25,
   "id": "7302234aa6fa6cd1",
   "metadata": {
    "ExecuteTime": {
     "end_time": "2025-03-25T16:29:17.548406Z",
     "start_time": "2025-03-25T16:29:17.392630Z"
    }
   },
   "outputs": [
    {
     "data": {
      "text/html": [
       "<style>#sk-container-id-1 {color: black;background-color: white;}#sk-container-id-1 pre{padding: 0;}#sk-container-id-1 div.sk-toggleable {background-color: white;}#sk-container-id-1 label.sk-toggleable__label {cursor: pointer;display: block;width: 100%;margin-bottom: 0;padding: 0.3em;box-sizing: border-box;text-align: center;}#sk-container-id-1 label.sk-toggleable__label-arrow:before {content: \"▸\";float: left;margin-right: 0.25em;color: #696969;}#sk-container-id-1 label.sk-toggleable__label-arrow:hover:before {color: black;}#sk-container-id-1 div.sk-estimator:hover label.sk-toggleable__label-arrow:before {color: black;}#sk-container-id-1 div.sk-toggleable__content {max-height: 0;max-width: 0;overflow: hidden;text-align: left;background-color: #f0f8ff;}#sk-container-id-1 div.sk-toggleable__content pre {margin: 0.2em;color: black;border-radius: 0.25em;background-color: #f0f8ff;}#sk-container-id-1 input.sk-toggleable__control:checked~div.sk-toggleable__content {max-height: 200px;max-width: 100%;overflow: auto;}#sk-container-id-1 input.sk-toggleable__control:checked~label.sk-toggleable__label-arrow:before {content: \"▾\";}#sk-container-id-1 div.sk-estimator input.sk-toggleable__control:checked~label.sk-toggleable__label {background-color: #d4ebff;}#sk-container-id-1 div.sk-label input.sk-toggleable__control:checked~label.sk-toggleable__label {background-color: #d4ebff;}#sk-container-id-1 input.sk-hidden--visually {border: 0;clip: rect(1px 1px 1px 1px);clip: rect(1px, 1px, 1px, 1px);height: 1px;margin: -1px;overflow: hidden;padding: 0;position: absolute;width: 1px;}#sk-container-id-1 div.sk-estimator {font-family: monospace;background-color: #f0f8ff;border: 1px dotted black;border-radius: 0.25em;box-sizing: border-box;margin-bottom: 0.5em;}#sk-container-id-1 div.sk-estimator:hover {background-color: #d4ebff;}#sk-container-id-1 div.sk-parallel-item::after {content: \"\";width: 100%;border-bottom: 1px solid gray;flex-grow: 1;}#sk-container-id-1 div.sk-label:hover label.sk-toggleable__label {background-color: #d4ebff;}#sk-container-id-1 div.sk-serial::before {content: \"\";position: absolute;border-left: 1px solid gray;box-sizing: border-box;top: 0;bottom: 0;left: 50%;z-index: 0;}#sk-container-id-1 div.sk-serial {display: flex;flex-direction: column;align-items: center;background-color: white;padding-right: 0.2em;padding-left: 0.2em;position: relative;}#sk-container-id-1 div.sk-item {position: relative;z-index: 1;}#sk-container-id-1 div.sk-parallel {display: flex;align-items: stretch;justify-content: center;background-color: white;position: relative;}#sk-container-id-1 div.sk-item::before, #sk-container-id-1 div.sk-parallel-item::before {content: \"\";position: absolute;border-left: 1px solid gray;box-sizing: border-box;top: 0;bottom: 0;left: 50%;z-index: -1;}#sk-container-id-1 div.sk-parallel-item {display: flex;flex-direction: column;z-index: 1;position: relative;background-color: white;}#sk-container-id-1 div.sk-parallel-item:first-child::after {align-self: flex-end;width: 50%;}#sk-container-id-1 div.sk-parallel-item:last-child::after {align-self: flex-start;width: 50%;}#sk-container-id-1 div.sk-parallel-item:only-child::after {width: 0;}#sk-container-id-1 div.sk-dashed-wrapped {border: 1px dashed gray;margin: 0 0.4em 0.5em 0.4em;box-sizing: border-box;padding-bottom: 0.4em;background-color: white;}#sk-container-id-1 div.sk-label label {font-family: monospace;font-weight: bold;display: inline-block;line-height: 1.2em;}#sk-container-id-1 div.sk-label-container {text-align: center;}#sk-container-id-1 div.sk-container {/* jupyter's `normalize.less` sets `[hidden] { display: none; }` but bootstrap.min.css set `[hidden] { display: none !important; }` so we also need the `!important` here to be able to override the default hidden behavior on the sphinx rendered scikit-learn.org. See: https://github.com/scikit-learn/scikit-learn/issues/21755 */display: inline-block !important;position: relative;}#sk-container-id-1 div.sk-text-repr-fallback {display: none;}</style><div id=\"sk-container-id-1\" class=\"sk-top-container\"><div class=\"sk-text-repr-fallback\"><pre>LinearRegression()</pre><b>In a Jupyter environment, please rerun this cell to show the HTML representation or trust the notebook. <br />On GitHub, the HTML representation is unable to render, please try loading this page with nbviewer.org.</b></div><div class=\"sk-container\" hidden><div class=\"sk-item\"><div class=\"sk-estimator sk-toggleable\"><input class=\"sk-toggleable__control sk-hidden--visually\" id=\"sk-estimator-id-1\" type=\"checkbox\" checked><label for=\"sk-estimator-id-1\" class=\"sk-toggleable__label sk-toggleable__label-arrow\">LinearRegression</label><div class=\"sk-toggleable__content\"><pre>LinearRegression()</pre></div></div></div></div></div>"
      ],
      "text/plain": [
       "LinearRegression()"
      ]
     },
     "execution_count": 25,
     "metadata": {},
     "output_type": "execute_result"
    }
   ],
   "source": [
    "model.fit(train_data[num_features + cat_features], train_data[target])"
   ]
  },
  {
   "cell_type": "markdown",
   "id": "fa789a00ef53a1c6",
   "metadata": {},
   "source": [
    "## Evaluate model"
   ]
  },
  {
   "cell_type": "code",
   "execution_count": 27,
   "id": "5be98d8ab0fd2144",
   "metadata": {
    "ExecuteTime": {
     "end_time": "2025-03-25T16:29:55.065556Z",
     "start_time": "2025-03-25T16:29:55.051587Z"
    }
   },
   "outputs": [],
   "source": [
    "train_preds = model.predict(train_data[num_features + cat_features])\n",
    "train_data['prediction'] = train_preds"
   ]
  },
  {
   "cell_type": "code",
   "execution_count": 28,
   "id": "4ab657be07c97e38",
   "metadata": {
    "ExecuteTime": {
     "end_time": "2025-03-25T16:30:04.084727Z",
     "start_time": "2025-03-25T16:30:04.071209Z"
    }
   },
   "outputs": [],
   "source": [
    "val_preds = model.predict(val_data[num_features + cat_features])\n",
    "val_data['prediction'] = val_preds"
   ]
  },
  {
   "cell_type": "code",
   "execution_count": 34,
   "id": "89039b3d99b01ad1",
   "metadata": {
    "ExecuteTime": {
     "end_time": "2025-03-25T16:31:40.161656Z",
     "start_time": "2025-03-25T16:31:40.147998Z"
    }
   },
   "outputs": [
    {
     "name": "stdout",
     "output_type": "stream",
     "text": [
      "Train MAE: 3.921\n",
      "Val MAE:   3.966\n"
     ]
    }
   ],
   "source": [
    "train_mae = mean_absolute_error(train_data[target], train_data['prediction'])\n",
    "val_mae = mean_absolute_error(val_data[target], val_data['prediction'])\n",
    "print(f\"Train MAE: {train_mae:.3f}\")\n",
    "print(f\"Val MAE:   {val_mae:.3f}\")"
   ]
  },
  {
   "cell_type": "markdown",
   "id": "cd83c99664ba8d5a",
   "metadata": {},
   "source": [
    "## Dump model and reference data"
   ]
  },
  {
   "cell_type": "code",
   "execution_count": 35,
   "id": "693719acd5720cee",
   "metadata": {
    "ExecuteTime": {
     "end_time": "2025-03-25T16:32:04.735956Z",
     "start_time": "2025-03-25T16:32:04.726934Z"
    }
   },
   "outputs": [],
   "source": [
    "with open('models/lin_reg.bin', 'wb') as f_out:\n",
    "    dump(model, f_out)"
   ]
  },
  {
   "cell_type": "code",
   "execution_count": 36,
   "id": "36382de6cc255335",
   "metadata": {
    "ExecuteTime": {
     "end_time": "2025-03-25T16:32:12.425176Z",
     "start_time": "2025-03-25T16:32:12.333977Z"
    }
   },
   "outputs": [],
   "source": [
    "val_data.to_parquet('data/reference.parquet')"
   ]
  }
 ],
 "metadata": {
  "kernelspec": {
   "display_name": "Python 3 (ipykernel)",
   "language": "python",
   "name": "python3"
  },
  "language_info": {
   "codemirror_mode": {
    "name": "ipython",
    "version": 3
   },
   "file_extension": ".py",
   "mimetype": "text/x-python",
   "name": "python",
   "nbconvert_exporter": "python",
   "pygments_lexer": "ipython3",
   "version": "3.11.13"
  }
 },
 "nbformat": 4,
 "nbformat_minor": 5
}
