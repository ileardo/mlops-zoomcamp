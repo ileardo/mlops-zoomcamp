{
 "cells": [
  {
   "cell_type": "markdown",
   "id": "f66936ba-6129-4e7b-ab70-95704fd81706",
   "metadata": {},
   "source": [
    "# 2.6 MLflow in practice"
   ]
  },
  {
   "cell_type": "markdown",
   "id": "ced1074d-5f1f-4d19-993f-92102d4fda43",
   "metadata": {},
   "source": [
    "# Scenario 1: single data scientist participating in a ML competition  \n",
    "\n",
    "**MLflow setup**:\n",
    "* **Tracking server**: no\n",
    "* **Backend store**:   local filesystem\n",
    "* **Artifact store**:  local filesystem"
   ]
  },
  {
   "cell_type": "markdown",
   "id": "88b17bc1-edf7-4dde-b1fb-304e30077c56",
   "metadata": {},
   "source": [
    "---"
   ]
  },
  {
   "cell_type": "code",
   "execution_count": 1,
   "id": "e4d92367-a47b-4c68-92e6-8dfd158e11ac",
   "metadata": {},
   "outputs": [],
   "source": [
    "import mlflow"
   ]
  },
  {
   "cell_type": "markdown",
   "id": "fec1d3a3-3bdc-4d06-86cf-6ca6d3b4b686",
   "metadata": {},
   "source": [
    "No need to specify tracking URI: store in local filesystem"
   ]
  },
  {
   "cell_type": "code",
   "execution_count": 2,
   "id": "2903afaa-fa6a-4dac-9258-b1eadcb65b77",
   "metadata": {},
   "outputs": [
    {
     "name": "stdout",
     "output_type": "stream",
     "text": [
      "tracking URI: file:///workspaces/mlops-zoomcamp/02-experiment-tracking/04_use_case_scenarios/mlruns\n"
     ]
    }
   ],
   "source": [
    "# default local filesystem\n",
    "print(f'tracking URI: {mlflow.get_tracking_uri()}')"
   ]
  },
  {
   "cell_type": "code",
   "execution_count": 3,
   "id": "7b451a1a-1348-4cd6-bacf-ff3ba3d1f27d",
   "metadata": {},
   "outputs": [
    {
     "data": {
      "text/plain": [
       "[<Experiment: artifact_location='file:///workspaces/mlops-zoomcamp/02-experiment-tracking/04_use_case_scenarios/mlruns/0', creation_time=1737106246212, experiment_id='0', last_update_time=1737106246212, lifecycle_stage='active', name='Default', tags={}>]"
      ]
     },
     "execution_count": 3,
     "metadata": {},
     "output_type": "execute_result"
    }
   ],
   "source": [
    "mlflow.search_experiments()"
   ]
  },
  {
   "cell_type": "markdown",
   "id": "0c78cb18-397b-4765-8c08-f1001fd06383",
   "metadata": {},
   "source": [
    "search_experiments() creates *mlruns* directory with *'Default'* experiment in it"
   ]
  },
  {
   "cell_type": "markdown",
   "id": "712fca48-4851-407c-8e4c-45c1dde2be7c",
   "metadata": {},
   "source": [
    "## Logistic regression in Iris Dataset  \n",
    "\n",
    "Run on 'my-experiment-1'"
   ]
  },
  {
   "cell_type": "code",
   "execution_count": 4,
   "id": "96957cd3-cc8e-4c70-a8ec-4f8d880680dd",
   "metadata": {},
   "outputs": [
    {
     "name": "stderr",
     "output_type": "stream",
     "text": [
      "2025/01/17 09:30:46 INFO mlflow.tracking.fluent: Experiment with name 'my-experiment-1' does not exist. Creating a new experiment.\n",
      "\u001b[31m2025/01/17 09:30:49 WARNING mlflow.models.model: Model logged without a signature and input example. Please set `input_example` parameter when logging the model to auto infer the model signature.\u001b[0m\n"
     ]
    },
    {
     "name": "stdout",
     "output_type": "stream",
     "text": [
      "default artifacts URI: 'file:///workspaces/mlops-zoomcamp/02-experiment-tracking/04_use_case_scenarios/mlruns/682501136300444253/3732085fe629499cb80e527e63078b71/artifacts'\n"
     ]
    }
   ],
   "source": [
    "from sklearn.linear_model import LogisticRegression\n",
    "from sklearn.datasets import load_iris\n",
    "from sklearn.metrics import accuracy_score\n",
    "\n",
    "mlflow.set_experiment(\"my-experiment-1\")\n",
    "\n",
    "with mlflow.start_run():\n",
    "\n",
    "    X, y = load_iris(return_X_y=True)\n",
    "\n",
    "    params = {\"C\": 0.1, \"random_state\": 42}\n",
    "    mlflow.log_params(params)\n",
    "\n",
    "    lr = LogisticRegression(**params).fit(X, y)\n",
    "    y_pred = lr.predict(X)\n",
    "    mlflow.log_metric(\"accuracy\", accuracy_score(y, y_pred))\n",
    "\n",
    "    mlflow.sklearn.log_model(lr, artifact_path=\"models\")\n",
    "    print(f\"default artifacts URI: '{mlflow.get_artifact_uri()}'\")"
   ]
  },
  {
   "cell_type": "code",
   "execution_count": 5,
   "id": "23aea3de-33ba-4695-a85b-869d31c677d3",
   "metadata": {},
   "outputs": [
    {
     "data": {
      "text/plain": [
       "[<Experiment: artifact_location='file:///workspaces/mlops-zoomcamp/02-experiment-tracking/04_use_case_scenarios/mlruns/682501136300444253', creation_time=1737106246583, experiment_id='682501136300444253', last_update_time=1737106246583, lifecycle_stage='active', name='my-experiment-1', tags={}>,\n",
       " <Experiment: artifact_location='file:///workspaces/mlops-zoomcamp/02-experiment-tracking/04_use_case_scenarios/mlruns/0', creation_time=1737106246212, experiment_id='0', last_update_time=1737106246212, lifecycle_stage='active', name='Default', tags={}>]"
      ]
     },
     "execution_count": 5,
     "metadata": {},
     "output_type": "execute_result"
    }
   ],
   "source": [
    "mlflow.search_experiments()"
   ]
  },
  {
   "cell_type": "markdown",
   "id": "727e05f5-64bc-4c24-88ef-5fc81e4ebce9",
   "metadata": {},
   "source": [
    "## Interact with model registry"
   ]
  },
  {
   "cell_type": "code",
   "execution_count": 6,
   "id": "5476676a-dbca-4882-9ddb-5a3368b4c64a",
   "metadata": {},
   "outputs": [],
   "source": [
    "from mlflow.tracking import MlflowClient\n",
    "\n",
    "client = MlflowClient()"
   ]
  },
  {
   "cell_type": "code",
   "execution_count": 10,
   "id": "939eb80b-cf40-4828-a7f4-5c3db1103725",
   "metadata": {},
   "outputs": [
    {
     "data": {
      "text/plain": [
       "[]"
      ]
     },
     "execution_count": 10,
     "metadata": {},
     "output_type": "execute_result"
    }
   ],
   "source": [
    "from mlflow.exceptions import MlflowException\n",
    "\n",
    "client.search_registered_models()"
   ]
  },
  {
   "cell_type": "markdown",
   "id": "bf349100-b65e-4805-8cbb-0de9b692ba7e",
   "metadata": {},
   "source": [
    "It's not possible to use the model registry in the case we're using local filesystem as **backend store**.  \n",
    "Can be solved by using different backend store like sqlite  "
   ]
  }
 ],
 "metadata": {
  "kernelspec": {
   "display_name": "Python 3 (ipykernel)",
   "language": "python",
   "name": "python3"
  },
  "language_info": {
   "codemirror_mode": {
    "name": "ipython",
    "version": 3
   },
   "file_extension": ".py",
   "mimetype": "text/x-python",
   "name": "python",
   "nbconvert_exporter": "python",
   "pygments_lexer": "ipython3",
   "version": "3.12.3"
  }
 },
 "nbformat": 4,
 "nbformat_minor": 5
}
