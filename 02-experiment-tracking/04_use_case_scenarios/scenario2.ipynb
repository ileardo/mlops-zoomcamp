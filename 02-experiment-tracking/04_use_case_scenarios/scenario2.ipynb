{
 "cells": [
  {
   "cell_type": "markdown",
   "id": "f66936ba-6129-4e7b-ab70-95704fd81706",
   "metadata": {},
   "source": [
    "# 2.6 MLflow in practice"
   ]
  },
  {
   "cell_type": "markdown",
   "id": "ced1074d-5f1f-4d19-993f-92102d4fda43",
   "metadata": {},
   "source": [
    "# Scenario 2: A cross-functional team with one data scientist working on an ML model \n",
    "\n",
    "**MLflow setup**:\n",
    "* **Tracking server**: yes, local server\n",
    "* **Backend store**:   sqlite database\n",
    "* **Artifact store**:  local filesystem"
   ]
  },
  {
   "cell_type": "markdown",
   "id": "88b17bc1-edf7-4dde-b1fb-304e30077c56",
   "metadata": {},
   "source": [
    "---"
   ]
  },
  {
   "cell_type": "markdown",
   "id": "0549c574-6569-43bb-9bff-f079abb5a2ab",
   "metadata": {},
   "source": [
    "The experiments can be explored locally by accessing the local tracking server.  \n",
    "\n",
    "`mlflow server --backend-store-uri sqlite:///backend.db --default-artifact-root ./artifacts_local`"
   ]
  },
  {
   "cell_type": "code",
   "execution_count": 1,
   "id": "875de3a7-0cd1-4e4c-a6ce-218742d9a003",
   "metadata": {},
   "outputs": [],
   "source": [
    "import mlflow\n",
    "\n",
    "mlflow.set_tracking_uri(\"http://127.0.0.1:5000\")"
   ]
  },
  {
   "cell_type": "code",
   "execution_count": 2,
   "id": "255b56cc-3806-4d7f-84c2-bf1c075e4ba1",
   "metadata": {},
   "outputs": [
    {
     "data": {
      "text/plain": [
       "[<Experiment: artifact_location='/workspaces/mlops-zoomcamp/02-experiment-tracking/04_use_case_scenarios/artifacts_local/1', creation_time=1737130366722, experiment_id='1', last_update_time=1737130366722, lifecycle_stage='active', name='my-experiment-1', tags={}>,\n",
       " <Experiment: artifact_location='/workspaces/mlops-zoomcamp/02-experiment-tracking/04_use_case_scenarios/artifacts_local/0', creation_time=1737130271046, experiment_id='0', last_update_time=1737130271046, lifecycle_stage='active', name='Default', tags={}>]"
      ]
     },
     "execution_count": 2,
     "metadata": {},
     "output_type": "execute_result"
    }
   ],
   "source": [
    "mlflow.search_experiments()"
   ]
  },
  {
   "cell_type": "markdown",
   "id": "0d5a2fda-8b5f-43d1-8fef-2de5f036c6a8",
   "metadata": {},
   "source": [
    "## Logistic regression in Iris Dataset  \n",
    "\n",
    "Run on 'my-experiment-1'"
   ]
  },
  {
   "cell_type": "markdown",
   "id": "0eb4ddd3-1568-48ed-a0b8-df26d16c7114",
   "metadata": {},
   "source": [
    "Metadata about experiments are stored in sqlite db.  \n",
    "Artifacts are stored in artifacts_local directory."
   ]
  },
  {
   "cell_type": "code",
   "execution_count": 3,
   "id": "3498bca4-c0cb-4925-9f39-b8de732bcc22",
   "metadata": {},
   "outputs": [
    {
     "name": "stderr",
     "output_type": "stream",
     "text": [
      "\u001b[31m2025/01/17 16:32:05 WARNING mlflow.models.model: Model logged without a signature and input example. Please set `input_example` parameter when logging the model to auto infer the model signature.\u001b[0m\n"
     ]
    },
    {
     "name": "stdout",
     "output_type": "stream",
     "text": [
      "default artifacts URI: '/workspaces/mlops-zoomcamp/02-experiment-tracking/04_use_case_scenarios/artifacts_local/1/a360558fde6f4051b7d71760c802f899/artifacts'\n",
      "🏃 View run omniscient-ram-556 at: http://127.0.0.1:5000/#/experiments/1/runs/a360558fde6f4051b7d71760c802f899\n",
      "🧪 View experiment at: http://127.0.0.1:5000/#/experiments/1\n"
     ]
    }
   ],
   "source": [
    "from sklearn.linear_model import LogisticRegression\n",
    "from sklearn.datasets import load_iris\n",
    "from sklearn.metrics import accuracy_score\n",
    "\n",
    "mlflow.set_experiment(\"my-experiment-1\")\n",
    "\n",
    "with mlflow.start_run():\n",
    "\n",
    "    X, y = load_iris(return_X_y=True)\n",
    "\n",
    "    params = {\"C\": 0.1, \"random_state\": 42}\n",
    "    mlflow.log_params(params)\n",
    "\n",
    "    lr = LogisticRegression(**params).fit(X, y)\n",
    "    y_pred = lr.predict(X)\n",
    "    mlflow.log_metric(\"accuracy\", accuracy_score(y, y_pred))\n",
    "\n",
    "    mlflow.sklearn.log_model(lr, artifact_path=\"models\")\n",
    "    print(f\"default artifacts URI: '{mlflow.get_artifact_uri()}'\")"
   ]
  },
  {
   "cell_type": "code",
   "execution_count": 4,
   "id": "037b5198-9a8e-425a-8f18-faa9a64087bb",
   "metadata": {},
   "outputs": [
    {
     "data": {
      "text/plain": [
       "[<Experiment: artifact_location='/workspaces/mlops-zoomcamp/02-experiment-tracking/04_use_case_scenarios/artifacts_local/1', creation_time=1737130366722, experiment_id='1', last_update_time=1737130366722, lifecycle_stage='active', name='my-experiment-1', tags={}>,\n",
       " <Experiment: artifact_location='/workspaces/mlops-zoomcamp/02-experiment-tracking/04_use_case_scenarios/artifacts_local/0', creation_time=1737130271046, experiment_id='0', last_update_time=1737130271046, lifecycle_stage='active', name='Default', tags={}>]"
      ]
     },
     "execution_count": 4,
     "metadata": {},
     "output_type": "execute_result"
    }
   ],
   "source": [
    "mlflow.search_experiments()"
   ]
  },
  {
   "cell_type": "markdown",
   "id": "ca074174-c699-40c5-a078-91d0bee31d4e",
   "metadata": {},
   "source": [
    "---"
   ]
  },
  {
   "cell_type": "markdown",
   "id": "5244efb4-5808-4609-9368-9b9417df2e7a",
   "metadata": {},
   "source": [
    "## Interact with model registry"
   ]
  },
  {
   "cell_type": "code",
   "execution_count": 5,
   "id": "5476676a-dbca-4882-9ddb-5a3368b4c64a",
   "metadata": {},
   "outputs": [],
   "source": [
    "from mlflow.tracking import MlflowClient\n",
    "\n",
    "client = MlflowClient(\"http://127.0.0.1:5000\")"
   ]
  },
  {
   "cell_type": "code",
   "execution_count": 6,
   "id": "939eb80b-cf40-4828-a7f4-5c3db1103725",
   "metadata": {},
   "outputs": [
    {
     "data": {
      "text/plain": [
       "[<RegisteredModel: aliases={'champion': '1'}, creation_timestamp=1737131132684, description='', last_updated_timestamp=1737131132703, latest_versions=[<ModelVersion: aliases=[], creation_timestamp=1737131132703, current_stage='None', description='', last_updated_timestamp=1737131132703, name='iris-classifier', run_id='fb0eda1b758547a6bdd59dccfcd7ed57', run_link='', source='/workspaces/mlops-zoomcamp/02-experiment-tracking/04_use_case_scenarios/artifacts_local/1/fb0eda1b758547a6bdd59dccfcd7ed57/artifacts/models', status='READY', status_message='', tags={}, user_id='', version='1'>], name='iris-classifier', tags={}>]"
      ]
     },
     "execution_count": 6,
     "metadata": {},
     "output_type": "execute_result"
    }
   ],
   "source": [
    "from mlflow.exceptions import MlflowException\n",
    "\n",
    "client.search_registered_models()"
   ]
  },
  {
   "cell_type": "markdown",
   "id": "192872b4-83f0-41ff-804a-296c786b99e2",
   "metadata": {},
   "source": [
    "Since we use a sqlite db as backend server we can **register** a model"
   ]
  },
  {
   "cell_type": "markdown",
   "id": "4400cbd1-b5e1-4fc5-868e-49c337a0bafe",
   "metadata": {},
   "source": [
    "### Register the model"
   ]
  },
  {
   "cell_type": "code",
   "execution_count": 7,
   "id": "9ff50e99-c214-4a85-b0c2-4104707f8590",
   "metadata": {},
   "outputs": [
    {
     "name": "stderr",
     "output_type": "stream",
     "text": [
      "Registered model 'iris-classifier' already exists. Creating a new version of this model...\n",
      "2025/01/17 16:32:06 INFO mlflow.store.model_registry.abstract_store: Waiting up to 300 seconds for model version to finish creation. Model name: iris-classifier, version 2\n",
      "Created version '2' of model 'iris-classifier'.\n"
     ]
    },
    {
     "data": {
      "text/plain": [
       "<ModelVersion: aliases=[], creation_timestamp=1737131526046, current_stage='None', description='', last_updated_timestamp=1737131526046, name='iris-classifier', run_id='a360558fde6f4051b7d71760c802f899', run_link='', source='/workspaces/mlops-zoomcamp/02-experiment-tracking/04_use_case_scenarios/artifacts_local/1/a360558fde6f4051b7d71760c802f899/artifacts/models', status='READY', status_message='', tags={}, user_id='', version='2'>"
      ]
     },
     "execution_count": 7,
     "metadata": {},
     "output_type": "execute_result"
    }
   ],
   "source": [
    "run_id = client.search_runs(experiment_ids='1')[0].info.run_id  # get info about first run of experiment with ID 1\n",
    "mlflow.register_model(\n",
    "    model_uri=f\"runs:/{run_id}/models\",\n",
    "    name='iris-classifier'\n",
    ")"
   ]
  },
  {
   "cell_type": "code",
   "execution_count": 8,
   "id": "de773ee4-1df3-45b5-8bc0-c6c4f6285a59",
   "metadata": {},
   "outputs": [
    {
     "data": {
      "text/plain": [
       "[<RegisteredModel: aliases={'champion': '1'}, creation_timestamp=1737131132684, description='', last_updated_timestamp=1737131526046, latest_versions=[<ModelVersion: aliases=[], creation_timestamp=1737131526046, current_stage='None', description='', last_updated_timestamp=1737131526046, name='iris-classifier', run_id='a360558fde6f4051b7d71760c802f899', run_link='', source='/workspaces/mlops-zoomcamp/02-experiment-tracking/04_use_case_scenarios/artifacts_local/1/a360558fde6f4051b7d71760c802f899/artifacts/models', status='READY', status_message='', tags={}, user_id='', version='2'>], name='iris-classifier', tags={}>]"
      ]
     },
     "execution_count": 8,
     "metadata": {},
     "output_type": "execute_result"
    }
   ],
   "source": [
    "client.search_registered_models()"
   ]
  },
  {
   "cell_type": "markdown",
   "id": "30af6278-91f3-4ad3-9a30-9acafc86977a",
   "metadata": {},
   "source": [
    "### Set model Alias"
   ]
  },
  {
   "cell_type": "code",
   "execution_count": 9,
   "id": "a6cd7cb4-ef9d-491c-b88b-8ff7303d86ab",
   "metadata": {},
   "outputs": [],
   "source": [
    "client.set_registered_model_alias(\n",
    "    name='iris-classifier', \n",
    "    alias='champion', \n",
    "    version='1',\n",
    "    )"
   ]
  }
 ],
 "metadata": {
  "kernelspec": {
   "display_name": "Python 3 (ipykernel)",
   "language": "python",
   "name": "python3"
  },
  "language_info": {
   "codemirror_mode": {
    "name": "ipython",
    "version": 3
   },
   "file_extension": ".py",
   "mimetype": "text/x-python",
   "name": "python",
   "nbconvert_exporter": "python",
   "pygments_lexer": "ipython3",
   "version": "3.12.1"
  }
 },
 "nbformat": 4,
 "nbformat_minor": 5
}
