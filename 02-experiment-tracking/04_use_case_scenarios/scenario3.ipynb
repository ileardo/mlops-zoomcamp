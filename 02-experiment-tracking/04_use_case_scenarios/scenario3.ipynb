{
 "cells": [
  {
   "cell_type": "markdown",
   "id": "f66936ba-6129-4e7b-ab70-95704fd81706",
   "metadata": {},
   "source": [
    "# 2.6 MLflow in practice"
   ]
  },
  {
   "cell_type": "markdown",
   "id": "ced1074d-5f1f-4d19-993f-92102d4fda43",
   "metadata": {},
   "source": [
    "# Scenario 3: Multiple data scientists working on multiple ML models\n",
    "\n",
    "**MLflow setup**:\n",
    "* **Tracking server**: yes, remote server (EC2)\n",
    "* **Backend store**:   postgresql database\n",
    "* **Artifact store**:  s3 bucket"
   ]
  },
  {
   "cell_type": "markdown",
   "id": "0549c574-6569-43bb-9bff-f079abb5a2ab",
   "metadata": {},
   "source": [
    "The experiments can be explored by accessing the remote server. \n",
    "\n",
    "The exampe uses AWS to host a remote server. In order to run the example an AWS account is needed.   \n",
    "`mlflow_on_aws.md` describes how to to create a new AWS account and launch the tracking server."
   ]
  },
  {
   "cell_type": "markdown",
   "id": "9c43e6e3-ba54-4f50-a030-db42bd659d18",
   "metadata": {},
   "source": [
    "---"
   ]
  },
  {
   "cell_type": "code",
   "execution_count": 1,
   "id": "c5a2e712-73f6-4381-9d5d-4cce581f817f",
   "metadata": {},
   "outputs": [
    {
     "name": "stdout",
     "output_type": "stream",
     "text": [
      "tracking URI: 'http://ec2-54-147-57-171.compute-1.amazonaws.com:5000'\n"
     ]
    }
   ],
   "source": [
    "import mlflow\n",
    "import os\n",
    "\n",
    "# fill in with your AWS profile. More info: https://docs.aws.amazon.com/sdk-for-java/latest/developer-guide/setup.html#setup-credentials\n",
    "os.environ[\"AWS_PROFILE\"] = \"mlflow\" \n",
    "\n",
    "# fill in with the public DNS of the EC2 instance\n",
    "TRACKING_SERVER_HOST = \"ec2-54-147-57-171.compute-1.amazonaws.com\" \n",
    "mlflow.set_tracking_uri(f\"http://{TRACKING_SERVER_HOST}:5000\")\n",
    "\n",
    "print(f\"tracking URI: '{mlflow.get_tracking_uri()}'\")"
   ]
  },
  {
   "cell_type": "code",
   "execution_count": 2,
   "id": "78ac9f85-fef5-49b9-8c02-ff4e35ff06bb",
   "metadata": {},
   "outputs": [
    {
     "data": {
      "text/plain": [
       "[<Experiment: artifact_location='s3://mlflow-artifacts-remote-lg/1', creation_time=1748276468707, experiment_id='1', last_update_time=1748276468707, lifecycle_stage='active', name='my-experiment-1', tags={}>,\n",
       " <Experiment: artifact_location='s3://mlflow-artifacts-remote-lg/0', creation_time=1748275019331, experiment_id='0', last_update_time=1748275019331, lifecycle_stage='active', name='Default', tags={}>]"
      ]
     },
     "execution_count": 2,
     "metadata": {},
     "output_type": "execute_result"
    }
   ],
   "source": [
    "mlflow.search_experiments()"
   ]
  },
  {
   "cell_type": "code",
   "execution_count": 3,
   "id": "d098bb6e-31ab-4e3b-830f-e1ee3917fce4",
   "metadata": {},
   "outputs": [
    {
     "name": "stderr",
     "output_type": "stream",
     "text": [
      "\u001b[31m2025/05/26 16:22:47 WARNING mlflow.models.model: Model logged without a signature and input example. Please set `input_example` parameter when logging the model to auto infer the model signature.\u001b[0m\n"
     ]
    },
    {
     "name": "stdout",
     "output_type": "stream",
     "text": [
      "default artifacts URI: 's3://mlflow-artifacts-remote-lg/1/081a0a1aa88840bcaa46ee31df44fc89/artifacts'\n",
      "🏃 View run useful-goose-487 at: http://ec2-54-147-57-171.compute-1.amazonaws.com:5000/#/experiments/1/runs/081a0a1aa88840bcaa46ee31df44fc89\n",
      "🧪 View experiment at: http://ec2-54-147-57-171.compute-1.amazonaws.com:5000/#/experiments/1\n"
     ]
    }
   ],
   "source": [
    "from sklearn.linear_model import LogisticRegression\n",
    "from sklearn.datasets import load_iris\n",
    "from sklearn.metrics import accuracy_score\n",
    "\n",
    "mlflow.set_experiment(\"my-experiment-1\")\n",
    "\n",
    "with mlflow.start_run():\n",
    "\n",
    "    X, y = load_iris(return_X_y=True)\n",
    "\n",
    "    params = {\"C\": 0.1, \"random_state\": 42}\n",
    "    mlflow.log_params(params)\n",
    "\n",
    "    lr = LogisticRegression(**params).fit(X, y)\n",
    "    y_pred = lr.predict(X)\n",
    "    mlflow.log_metric(\"accuracy\", accuracy_score(y, y_pred))\n",
    "\n",
    "    mlflow.sklearn.log_model(lr, artifact_path=\"models\")\n",
    "    print(f\"default artifacts URI: '{mlflow.get_artifact_uri()}'\")"
   ]
  },
  {
   "cell_type": "code",
   "execution_count": 4,
   "id": "7d3cc8c1-0f08-4c84-a381-13577eda26d1",
   "metadata": {},
   "outputs": [
    {
     "data": {
      "text/plain": [
       "[<Experiment: artifact_location='s3://mlflow-artifacts-remote-lg/1', creation_time=1748276468707, experiment_id='1', last_update_time=1748276468707, lifecycle_stage='active', name='my-experiment-1', tags={}>,\n",
       " <Experiment: artifact_location='s3://mlflow-artifacts-remote-lg/0', creation_time=1748275019331, experiment_id='0', last_update_time=1748275019331, lifecycle_stage='active', name='Default', tags={}>]"
      ]
     },
     "execution_count": 4,
     "metadata": {},
     "output_type": "execute_result"
    }
   ],
   "source": [
    "mlflow.search_experiments()"
   ]
  },
  {
   "cell_type": "markdown",
   "id": "34632a24-403e-4ead-9703-d1eb01b6079f",
   "metadata": {},
   "source": [
    "## Interacting with the model registry"
   ]
  },
  {
   "cell_type": "code",
   "execution_count": 5,
   "id": "0f58b315-05c7-4b59-9c22-eaffc93282fa",
   "metadata": {},
   "outputs": [],
   "source": [
    "from mlflow.tracking import MlflowClient\n",
    "\n",
    "client = MlflowClient(f\"http://{TRACKING_SERVER_HOST}:5000\")"
   ]
  },
  {
   "cell_type": "code",
   "execution_count": 7,
   "id": "4c664304-07a1-44ad-81fb-8113749b6a02",
   "metadata": {},
   "outputs": [
    {
     "data": {
      "text/plain": [
       "[]"
      ]
     },
     "execution_count": 7,
     "metadata": {},
     "output_type": "execute_result"
    }
   ],
   "source": [
    "client.search_registered_models()"
   ]
  },
  {
   "cell_type": "code",
   "execution_count": 9,
   "id": "76f54a99-4852-47fc-86fe-0f2d5ef3c65e",
   "metadata": {},
   "outputs": [
    {
     "name": "stderr",
     "output_type": "stream",
     "text": [
      "Successfully registered model 'iris-classifier'.\n",
      "2025/05/26 16:27:54 INFO mlflow.store.model_registry.abstract_store: Waiting up to 300 seconds for model version to finish creation. Model name: iris-classifier, version 1\n",
      "Created version '1' of model 'iris-classifier'.\n"
     ]
    }
   ],
   "source": [
    "runs = client.search_runs(\n",
    "    experiment_ids=['1'],\n",
    "    order_by=['start_time DESC'],\n",
    "    max_results=1\n",
    ")\n",
    "\n",
    "if runs:\n",
    "    run_id = runs[0].info.run_id\n",
    "    mlflow.register_model(\n",
    "        model_uri=f\"runs:/{run_id}/models\",\n",
    "        name='iris-classifier'\n",
    "    )\n",
    "else:\n",
    "    print(\"No runs found in experiment 1\")"
   ]
  }
 ],
 "metadata": {
  "kernelspec": {
   "display_name": "Python 3 (ipykernel)",
   "language": "python",
   "name": "python3"
  },
  "language_info": {
   "codemirror_mode": {
    "name": "ipython",
    "version": 3
   },
   "file_extension": ".py",
   "mimetype": "text/x-python",
   "name": "python",
   "nbconvert_exporter": "python",
   "pygments_lexer": "ipython3",
   "version": "3.12.1"
  }
 },
 "nbformat": 4,
 "nbformat_minor": 5
}
