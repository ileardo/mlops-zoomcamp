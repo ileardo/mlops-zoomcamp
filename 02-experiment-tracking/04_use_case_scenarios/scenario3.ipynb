{
 "cells": [
  {
   "cell_type": "markdown",
   "id": "f66936ba-6129-4e7b-ab70-95704fd81706",
   "metadata": {},
   "source": [
    "# 2.6 MLflow in practice"
   ]
  },
  {
   "cell_type": "markdown",
   "id": "ced1074d-5f1f-4d19-993f-92102d4fda43",
   "metadata": {},
   "source": [
    "# Scenario 3: Multiple data scientists working on multiple ML models\n",
    "\n",
    "**MLflow setup**:\n",
    "* **Tracking server**: yes, remote server (EC2)\n",
    "* **Backend store**:   postgresql database\n",
    "* **Artifact store**:  s3 bucket"
   ]
  },
  {
   "cell_type": "markdown",
   "id": "0549c574-6569-43bb-9bff-f079abb5a2ab",
   "metadata": {},
   "source": [
    "The experiments can be explored by accessing the remote server. \n",
    "\n",
    "The exampe uses AWS to host a remote server. In order to run the example an AWS account is needed.   \n",
    "`mlflow_on_aws.md` describes how to to create a new AWS account and launch the tracking server."
   ]
  },
  {
   "cell_type": "markdown",
   "id": "9c43e6e3-ba54-4f50-a030-db42bd659d18",
   "metadata": {},
   "source": [
    "---"
   ]
  }
 ],
 "metadata": {
  "kernelspec": {
   "display_name": "Python 3 (ipykernel)",
   "language": "python",
   "name": "python3"
  },
  "language_info": {
   "codemirror_mode": {
    "name": "ipython",
    "version": 3
   },
   "file_extension": ".py",
   "mimetype": "text/x-python",
   "name": "python",
   "nbconvert_exporter": "python",
   "pygments_lexer": "ipython3",
   "version": "3.12.3"
  }
 },
 "nbformat": 4,
 "nbformat_minor": 5
}
