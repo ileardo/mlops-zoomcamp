{
 "cells": [
  {
   "cell_type": "markdown",
   "id": "7e641f01-5d55-41a4-884b-3d2aeb51e107",
   "metadata": {},
   "source": [
    "# 2.3 Experiment tracking with MLflow"
   ]
  },
  {
   "cell_type": "code",
   "execution_count": 3,
   "id": "06163262-3bbe-4e48-aaca-e7fbc520a26f",
   "metadata": {},
   "outputs": [],
   "source": [
    "import matplotlib.pyplot as plt\n",
    "import seaborn as sns\n",
    "import pandas as pd\n",
    "import pickle"
   ]
  },
  {
   "cell_type": "code",
   "execution_count": 4,
   "id": "dc00d28f-ef8a-49e2-b26b-6c870d3ff533",
   "metadata": {},
   "outputs": [],
   "source": [
    "from sklearn.feature_extraction import DictVectorizer\n",
    "from sklearn.linear_model import LinearRegression\n",
    "from sklearn.linear_model import Lasso\n",
    "from sklearn.linear_model import Ridge\n",
    "\n",
    "from sklearn.metrics import mean_squared_error, root_mean_squared_error"
   ]
  },
  {
   "cell_type": "markdown",
   "id": "dd38d934-a86c-4eba-ae4b-bc4b97103dc6",
   "metadata": {},
   "source": [
    " ### ML Flow"
   ]
  },
  {
   "cell_type": "code",
   "execution_count": 5,
   "id": "c79581cf-1178-4ada-8317-0972528f328e",
   "metadata": {},
   "outputs": [
    {
     "data": {
      "text/plain": [
       "<Experiment: artifact_location='/workspaces/mlops-zoomcamp/02-experiment-tracking/mlruns/1', creation_time=1732646263960, experiment_id='1', last_update_time=1732646263960, lifecycle_stage='active', name='nyc-taxi-experiment', tags={}>"
      ]
     },
     "execution_count": 5,
     "metadata": {},
     "output_type": "execute_result"
    }
   ],
   "source": [
    "import mlflow\n",
    "\n",
    "mlflow.set_tracking_uri('sqlite:///mlflow.db')\n",
    "mlflow.set_experiment('nyc-taxi-experiment')\n",
    "\n",
    "# access UI\n",
    "# mlflow ui --backend-store-uri sqlite:///mlflow.db"
   ]
  },
  {
   "cell_type": "code",
   "execution_count": 6,
   "id": "2191c719-1bc1-4baf-8339-8732444590fe",
   "metadata": {},
   "outputs": [],
   "source": [
    "# create utility function for dataframe reading\n",
    "def read_dataframe(filename):\n",
    "    if filename.endswith('.csv'):\n",
    "        df = pd.read_csv(filename)\n",
    "\n",
    "        df.lpep_dropoff_datetime = pd.to_datetime(df.lpep_dropoff_datetime)\n",
    "        df.lpep_pickup_datetime = pd.to_datetime(df.lpep_pickup_datetime)\n",
    "    elif filename.endswith('.parquet'):\n",
    "        df = pd.read_parquet(filename)\n",
    "\n",
    "    df['duration'] = df.lpep_dropoff_datetime - df.lpep_pickup_datetime\n",
    "    df.duration = df.duration.apply(lambda td: td.total_seconds() / 60)\n",
    "\n",
    "    df = df[(df.duration >= 1) & (df.duration <= 60)]\n",
    "\n",
    "    categorical = ['PULocationID', 'DOLocationID']\n",
    "    df[categorical] = df[categorical].astype(str)\n",
    "    \n",
    "    return df"
   ]
  },
  {
   "cell_type": "markdown",
   "id": "96967b77-183e-4b15-ac6e-4275f7c0ced4",
   "metadata": {},
   "source": [
    "### Import datasets"
   ]
  },
  {
   "cell_type": "code",
   "execution_count": 7,
   "id": "c5994fe4-262f-48f3-8d19-086b7d745166",
   "metadata": {},
   "outputs": [
    {
     "data": {
      "text/plain": [
       "(54373, 51497)"
      ]
     },
     "execution_count": 7,
     "metadata": {},
     "output_type": "execute_result"
    }
   ],
   "source": [
    "# january\n",
    "df_train = read_dataframe('https://d37ci6vzurychx.cloudfront.net/trip-data/green_tripdata_2024-01.parquet')\n",
    "# february\n",
    "df_val = read_dataframe('https://d37ci6vzurychx.cloudfront.net/trip-data/green_tripdata_2024-02.parquet')\n",
    "len(df_train), len(df_val)"
   ]
  },
  {
   "cell_type": "code",
   "execution_count": 8,
   "id": "6b494c08-5704-4cda-a6b2-7402e882ebb8",
   "metadata": {},
   "outputs": [],
   "source": [
    "# combine Pick Up Location and Drop Off Location in one feature\n",
    "df_train['PU_DO'] = df_train['PULocationID'] + '_' + df_train['DOLocationID']\n",
    "df_val['PU_DO'] = df_val['PULocationID'] + '_' + df_val['DOLocationID']"
   ]
  },
  {
   "cell_type": "code",
   "execution_count": 9,
   "id": "a89cbdeb-ba6c-45ea-810e-30eb1dab976a",
   "metadata": {},
   "outputs": [
    {
     "data": {
      "text/plain": [
       "(<Compressed Sparse Row sparse matrix of dtype 'float64'\n",
       " \twith 108746 stored elements and shape (54373, 5093)>,\n",
       " <Compressed Sparse Row sparse matrix of dtype 'float64'\n",
       " \twith 100591 stored elements and shape (51497, 5093)>)"
      ]
     },
     "execution_count": 9,
     "metadata": {},
     "output_type": "execute_result"
    }
   ],
   "source": [
    "categorical = ['PU_DO']\n",
    "numerical = ['trip_distance']\n",
    "\n",
    "dv = DictVectorizer()\n",
    "# fit transform\n",
    "train_dicts = df_train[categorical + numerical].to_dict(orient='records')\n",
    "X_train = dv.fit_transform(train_dicts)\n",
    "# transform\n",
    "val_dicts = df_val[categorical + numerical].to_dict(orient='records')\n",
    "X_val = dv.transform(val_dicts)\n",
    "\n",
    "X_train, X_val"
   ]
  },
  {
   "cell_type": "code",
   "execution_count": 10,
   "id": "de6c9353-19cd-48ae-80e4-57aede060637",
   "metadata": {},
   "outputs": [],
   "source": [
    "target = 'duration'\n",
    "y_train = df_train[target].values\n",
    "y_val = df_val[target].values"
   ]
  },
  {
   "cell_type": "markdown",
   "id": "7805e8bc-3062-49ca-8786-157bfb83e86f",
   "metadata": {},
   "source": [
    "### Train models"
   ]
  },
  {
   "cell_type": "code",
   "execution_count": 9,
   "id": "d522e546-c8ab-4a08-a472-3c37a66958aa",
   "metadata": {},
   "outputs": [
    {
     "data": {
      "text/plain": [
       "np.float64(5.995041447869019)"
      ]
     },
     "execution_count": 9,
     "metadata": {},
     "output_type": "execute_result"
    }
   ],
   "source": [
    "# fit Linear Regression\n",
    "lr = LinearRegression()\n",
    "lr.fit(X_train, y_train)\n",
    "# predict on validation\n",
    "y_val_hat = lr.predict(X_val)\n",
    "root_mean_squared_error(y_val, y_val_hat)"
   ]
  },
  {
   "cell_type": "code",
   "execution_count": 10,
   "id": "1ba13726-17cb-42be-b122-36f18944a056",
   "metadata": {},
   "outputs": [],
   "source": [
    "# fit Lasso Regression\n",
    "\n",
    "# ML Flow log\n",
    "with mlflow.start_run():\n",
    "\n",
    "    # run tag: utils for run filtering\n",
    "    mlflow.set_tag('developer', 'leonardo')\n",
    "\n",
    "    # useful parameters\n",
    "    mlflow.log_param('train-data-path', 'green_tripdata_2024-01.parquet')\n",
    "    mlflow.log_param('val-data-path', 'green_tripdata_2024-02.parquet')\n",
    "    alpha = 0.1\n",
    "    mlflow.log_param('alpha', alpha)\n",
    "    \n",
    "    lr = Lasso(alpha=alpha)\n",
    "    lr.fit(X_train, y_train)\n",
    "    # predict on validation\n",
    "    y_val_hat = lr.predict(X_val)\n",
    "    rmse = root_mean_squared_error(y_val, y_val_hat)\n",
    "\n",
    "    # metrics\n",
    "    mlflow.log_metric('rmse', rmse)"
   ]
  },
  {
   "cell_type": "code",
   "execution_count": 11,
   "id": "6d275e15-31a9-4473-be1b-a50fb4e0b4da",
   "metadata": {},
   "outputs": [
    {
     "data": {
      "text/plain": [
       "np.float64(5.980948972923878)"
      ]
     },
     "execution_count": 11,
     "metadata": {},
     "output_type": "execute_result"
    }
   ],
   "source": [
    "# fit Ridge Regression\n",
    "lr = Ridge()\n",
    "lr.fit(X_train, y_train)\n",
    "# predict on validation\n",
    "y_val_hat = lr.predict(X_val)\n",
    "root_mean_squared_error(y_val, y_val_hat)"
   ]
  },
  {
   "cell_type": "code",
   "execution_count": 12,
   "id": "e87076f8-272f-4ea3-a2e3-d0be62aac192",
   "metadata": {},
   "outputs": [],
   "source": [
    "# save model\n",
    "with open('models/taxi_ridge_reg.bin', 'wb') as f_out:\n",
    "    pickle.dump((dv, lr), f_out)"
   ]
  },
  {
   "cell_type": "markdown",
   "id": "48e3a4fd-5610-4601-a064-6119c9230790",
   "metadata": {},
   "source": [
    "### Hyperparameters search with Hyperopt and MLflow"
   ]
  },
  {
   "cell_type": "code",
   "execution_count": 13,
   "id": "828a4315-6256-4c8b-bddc-44ad1a5fd4e2",
   "metadata": {},
   "outputs": [],
   "source": [
    "import xgboost as xgb\n",
    "\n",
    "from hyperopt import fmin, tpe, hp, STATUS_OK, Trials\n",
    "from hyperopt.pyll import scope"
   ]
  },
  {
   "cell_type": "code",
   "execution_count": 14,
   "id": "964dcf2e-7d46-4a3b-bf36-9ed9f97ec5fa",
   "metadata": {},
   "outputs": [],
   "source": [
    "train = xgb.DMatrix(X_train, label=y_train)\n",
    "valid = xgb.DMatrix(X_val, label=y_val)"
   ]
  },
  {
   "cell_type": "code",
   "execution_count": 15,
   "id": "71519eb8-8d62-4fc2-b573-ce83a65bfa1e",
   "metadata": {},
   "outputs": [],
   "source": [
    "def objective(params):\n",
    "\n",
    "    with mlflow.start_run():\n",
    "        mlflow.set_tag('model', 'xgboost')\n",
    "        mlflow.log_params(params)\n",
    "        \n",
    "        booster = xgb.train(\n",
    "            params=params,\n",
    "            dtrain=train,\n",
    "            num_boost_round=100,\n",
    "            evals=[(valid, 'validation')],\n",
    "            early_stopping_rounds=50\n",
    "        )\n",
    "\n",
    "        y_pred = booster.predict(valid)\n",
    "        rmse = root_mean_squared_error(y_val, y_pred)\n",
    "        mlflow.log_metric('rmse', rmse)\n",
    "\n",
    "    return {'loss': rmse, 'status': STATUS_OK}"
   ]
  },
  {
   "cell_type": "code",
   "execution_count": 16,
   "id": "3965952c-a86a-480e-94ee-a2e2496264cb",
   "metadata": {},
   "outputs": [],
   "source": [
    "search_space = {\n",
    "    'max_depth': scope.int(hp.quniform('max_depth', 4, 100, 1)),\n",
    "    'learning_rate': hp.loguniform('learning_rate', -3, 0),  # [exp(-3), exp(0)] = [-0.05, 1]\n",
    "    'reg_alpha': hp.loguniform('reg_alpha', -5, -1),\n",
    "    'reg_lambda': hp.loguniform('reg_lambda', -6, -1),\n",
    "    'min_child_weight': hp.loguniform('min_child_weight', -1, 3),\n",
    "    'objective': 'reg:squarederror',\n",
    "    'seed': 42\n",
    "}"
   ]
  },
  {
   "cell_type": "code",
   "execution_count": 17,
   "id": "2f6895f3-9ebd-40cf-8315-08045b255b1c",
   "metadata": {
    "scrolled": true
   },
   "outputs": [
    {
     "name": "stdout",
     "output_type": "stream",
     "text": [
      "[0]\tvalidation-rmse:8.76272                                                                                                                          \n",
      "[1]\tvalidation-rmse:8.44136                                                                                                                          \n",
      "[2]\tvalidation-rmse:8.14580                                                                                                                          \n",
      "[3]\tvalidation-rmse:7.87391                                                                                                                          \n",
      "[4]\tvalidation-rmse:7.62480                                                                                                                          \n",
      "[5]\tvalidation-rmse:7.39631                                                                                                                          \n",
      "[6]\tvalidation-rmse:7.18766                                                                                                                          \n",
      "[7]\tvalidation-rmse:6.99680                                                                                                                          \n",
      "[8]\tvalidation-rmse:6.82365                                                                                                                          \n",
      "[9]\tvalidation-rmse:6.66552                                                                                                                          \n",
      "[10]\tvalidation-rmse:6.52186                                                                                                                         \n",
      "[11]\tvalidation-rmse:6.39189                                                                                                                         \n",
      "[12]\tvalidation-rmse:6.27414                                                                                                                         \n",
      "[13]\tvalidation-rmse:6.16784                                                                                                                         \n",
      "[14]\tvalidation-rmse:6.07174                                                                                                                         \n",
      "[15]\tvalidation-rmse:5.98538                                                                                                                         \n",
      "[16]\tvalidation-rmse:5.90723                                                                                                                         \n",
      "[17]\tvalidation-rmse:5.83738                                                                                                                         \n",
      "[18]\tvalidation-rmse:5.77456                                                                                                                         \n",
      "[19]\tvalidation-rmse:5.71798                                                                                                                         \n",
      "[20]\tvalidation-rmse:5.66709                                                                                                                         \n",
      "[21]\tvalidation-rmse:5.62182                                                                                                                         \n",
      "[22]\tvalidation-rmse:5.58103                                                                                                                         \n",
      "[23]\tvalidation-rmse:5.54469                                                                                                                         \n",
      "[24]\tvalidation-rmse:5.51229                                                                                                                         \n",
      "[25]\tvalidation-rmse:5.48313                                                                                                                         \n",
      "[26]\tvalidation-rmse:5.45689                                                                                                                         \n",
      "[27]\tvalidation-rmse:5.43400                                                                                                                         \n",
      "[28]\tvalidation-rmse:5.41326                                                                                                                         \n",
      "[29]\tvalidation-rmse:5.39486                                                                                                                         \n",
      "[30]\tvalidation-rmse:5.37863                                                                                                                         \n",
      "[31]\tvalidation-rmse:5.36371                                                                                                                         \n",
      "[32]\tvalidation-rmse:5.35090                                                                                                                         \n",
      "[33]\tvalidation-rmse:5.33906                                                                                                                         \n",
      "[34]\tvalidation-rmse:5.32887                                                                                                                         \n",
      "[35]\tvalidation-rmse:5.31936                                                                                                                         \n",
      "[36]\tvalidation-rmse:5.31106                                                                                                                         \n",
      "[37]\tvalidation-rmse:5.30354                                                                                                                         \n",
      "[38]\tvalidation-rmse:5.29677                                                                                                                         \n",
      "[39]\tvalidation-rmse:5.29062                                                                                                                         \n",
      "[40]\tvalidation-rmse:5.28441                                                                                                                         \n",
      "[41]\tvalidation-rmse:5.27897                                                                                                                         \n",
      "[42]\tvalidation-rmse:5.27444                                                                                                                         \n",
      "[43]\tvalidation-rmse:5.27044                                                                                                                         \n",
      "[44]\tvalidation-rmse:5.26662                                                                                                                         \n",
      "[45]\tvalidation-rmse:5.26349                                                                                                                         \n",
      "[46]\tvalidation-rmse:5.25985                                                                                                                         \n",
      "[47]\tvalidation-rmse:5.25680                                                                                                                         \n",
      "[48]\tvalidation-rmse:5.25396                                                                                                                         \n",
      "[49]\tvalidation-rmse:5.25130                                                                                                                         \n",
      "[50]\tvalidation-rmse:5.24895                                                                                                                         \n",
      "[51]\tvalidation-rmse:5.24666                                                                                                                         \n",
      "[52]\tvalidation-rmse:5.24473                                                                                                                         \n",
      "[53]\tvalidation-rmse:5.24315                                                                                                                         \n",
      "[54]\tvalidation-rmse:5.24109                                                                                                                         \n",
      "[55]\tvalidation-rmse:5.23989                                                                                                                         \n",
      "[56]\tvalidation-rmse:5.23853                                                                                                                         \n",
      "[57]\tvalidation-rmse:5.23728                                                                                                                         \n",
      "[58]\tvalidation-rmse:5.23637                                                                                                                         \n",
      "[59]\tvalidation-rmse:5.23488                                                                                                                         \n",
      "[60]\tvalidation-rmse:5.23396                                                                                                                         \n",
      "[61]\tvalidation-rmse:5.23291                                                                                                                         \n",
      "[62]\tvalidation-rmse:5.23177                                                                                                                         \n",
      "[63]\tvalidation-rmse:5.23073                                                                                                                         \n",
      "[64]\tvalidation-rmse:5.23003                                                                                                                         \n",
      "[65]\tvalidation-rmse:5.22938                                                                                                                         \n",
      "[66]\tvalidation-rmse:5.22889                                                                                                                         \n",
      "[67]\tvalidation-rmse:5.22830                                                                                                                         \n",
      "[68]\tvalidation-rmse:5.22753                                                                                                                         \n",
      "[69]\tvalidation-rmse:5.22689                                                                                                                         \n",
      "[70]\tvalidation-rmse:5.22629                                                                                                                         \n",
      "[71]\tvalidation-rmse:5.22517                                                                                                                         \n",
      "[72]\tvalidation-rmse:5.22476                                                                                                                         \n",
      "[73]\tvalidation-rmse:5.22429                                                                                                                         \n",
      "[74]\tvalidation-rmse:5.22376                                                                                                                         \n",
      "[75]\tvalidation-rmse:5.22347                                                                                                                         \n",
      "[76]\tvalidation-rmse:5.22306                                                                                                                         \n",
      "[77]\tvalidation-rmse:5.22253                                                                                                                         \n",
      "[78]\tvalidation-rmse:5.22187                                                                                                                         \n",
      "[79]\tvalidation-rmse:5.22167                                                                                                                         \n",
      "[80]\tvalidation-rmse:5.22150                                                                                                                         \n",
      "[81]\tvalidation-rmse:5.22137                                                                                                                         \n",
      "[82]\tvalidation-rmse:5.22098                                                                                                                         \n",
      "[83]\tvalidation-rmse:5.22081                                                                                                                         \n",
      "[84]\tvalidation-rmse:5.22066                                                                                                                         \n",
      "[85]\tvalidation-rmse:5.22038                                                                                                                         \n",
      "[86]\tvalidation-rmse:5.22030                                                                                                                         \n",
      "[87]\tvalidation-rmse:5.22011                                                                                                                         \n",
      "[88]\tvalidation-rmse:5.21945                                                                                                                         \n",
      "[89]\tvalidation-rmse:5.21964                                                                                                                         \n",
      "[90]\tvalidation-rmse:5.21932                                                                                                                         \n",
      "[91]\tvalidation-rmse:5.21901                                                                                                                         \n",
      "[92]\tvalidation-rmse:5.21907                                                                                                                         \n",
      "[93]\tvalidation-rmse:5.21938                                                                                                                         \n",
      "[94]\tvalidation-rmse:5.21873                                                                                                                         \n",
      "[95]\tvalidation-rmse:5.21893                                                                                                                         \n",
      "[96]\tvalidation-rmse:5.21896                                                                                                                         \n",
      "[97]\tvalidation-rmse:5.21919                                                                                                                         \n",
      "[98]\tvalidation-rmse:5.21852                                                                                                                         \n",
      "[99]\tvalidation-rmse:5.21862                                                                                                                         \n",
      "[0]\tvalidation-rmse:8.73946                                                                                                                          \n",
      "[1]\tvalidation-rmse:8.39896                                                                                                                          \n",
      "[2]\tvalidation-rmse:8.08744                                                                                                                          \n",
      "[3]\tvalidation-rmse:7.80306                                                                                                                          \n",
      "[4]\tvalidation-rmse:7.54461                                                                                                                          \n",
      "[5]\tvalidation-rmse:7.30962                                                                                                                          \n",
      "[6]\tvalidation-rmse:7.09625                                                                                                                          \n",
      "[7]\tvalidation-rmse:6.90321                                                                                                                          \n",
      "[8]\tvalidation-rmse:6.72935                                                                                                                          \n",
      "[9]\tvalidation-rmse:6.57157                                                                                                                          \n",
      "[10]\tvalidation-rmse:6.42960                                                                                                                         \n",
      "[11]\tvalidation-rmse:6.30167                                                                                                                         \n",
      "[12]\tvalidation-rmse:6.18756                                                                                                                         \n",
      "[13]\tvalidation-rmse:6.08491                                                                                                                         \n",
      "[14]\tvalidation-rmse:5.99359                                                                                                                         \n",
      "[15]\tvalidation-rmse:5.91189                                                                                                                         \n",
      "[16]\tvalidation-rmse:5.83862                                                                                                                         \n",
      "[17]\tvalidation-rmse:5.77362                                                                                                                         \n",
      "[18]\tvalidation-rmse:5.71586                                                                                                                         \n",
      "[19]\tvalidation-rmse:5.66428                                                                                                                         \n",
      "[20]\tvalidation-rmse:5.61836                                                                                                                         \n",
      "[21]\tvalidation-rmse:5.57776                                                                                                                         \n",
      "[22]\tvalidation-rmse:5.54239                                                                                                                         \n",
      "[23]\tvalidation-rmse:5.50996                                                                                                                         \n",
      "[24]\tvalidation-rmse:5.48203                                                                                                                         \n",
      "[25]\tvalidation-rmse:5.45739                                                                                                                         \n",
      "[26]\tvalidation-rmse:5.43501                                                                                                                         \n",
      "[27]\tvalidation-rmse:5.41521                                                                                                                         \n",
      "[28]\tvalidation-rmse:5.39754                                                                                                                         \n",
      "[29]\tvalidation-rmse:5.38203                                                                                                                         \n",
      "[30]\tvalidation-rmse:5.36810                                                                                                                         \n",
      "[31]\tvalidation-rmse:5.35524                                                                                                                         \n",
      "[32]\tvalidation-rmse:5.34455                                                                                                                         \n",
      "[33]\tvalidation-rmse:5.33417                                                                                                                         \n",
      "[34]\tvalidation-rmse:5.32551                                                                                                                         \n",
      "[35]\tvalidation-rmse:5.31773                                                                                                                         \n",
      "[36]\tvalidation-rmse:5.31097                                                                                                                         \n",
      "[37]\tvalidation-rmse:5.30471                                                                                                                         \n",
      "[38]\tvalidation-rmse:5.29928                                                                                                                         \n",
      "[39]\tvalidation-rmse:5.29430                                                                                                                         \n",
      "[40]\tvalidation-rmse:5.28998                                                                                                                         \n",
      "[41]\tvalidation-rmse:5.28570                                                                                                                         \n",
      "[42]\tvalidation-rmse:5.28231                                                                                                                         \n",
      "[43]\tvalidation-rmse:5.27888                                                                                                                         \n",
      "[44]\tvalidation-rmse:5.27547                                                                                                                         \n",
      "[45]\tvalidation-rmse:5.27278                                                                                                                         \n",
      "[46]\tvalidation-rmse:5.27002                                                                                                                         \n",
      "[47]\tvalidation-rmse:5.26795                                                                                                                         \n",
      "[48]\tvalidation-rmse:5.26597                                                                                                                         \n",
      "[49]\tvalidation-rmse:5.26374                                                                                                                         \n",
      "[50]\tvalidation-rmse:5.26156                                                                                                                         \n",
      "[51]\tvalidation-rmse:5.25966                                                                                                                         \n",
      "[52]\tvalidation-rmse:5.25798                                                                                                                         \n",
      "[53]\tvalidation-rmse:5.25691                                                                                                                         \n",
      "[54]\tvalidation-rmse:5.25529                                                                                                                         \n",
      "[55]\tvalidation-rmse:5.25401                                                                                                                         \n",
      "[56]\tvalidation-rmse:5.25290                                                                                                                         \n",
      "[57]\tvalidation-rmse:5.25164                                                                                                                         \n",
      "[58]\tvalidation-rmse:5.25039                                                                                                                         \n",
      "[59]\tvalidation-rmse:5.24940                                                                                                                         \n",
      "[60]\tvalidation-rmse:5.24824                                                                                                                         \n",
      "[61]\tvalidation-rmse:5.24738                                                                                                                         \n",
      "[62]\tvalidation-rmse:5.24594                                                                                                                         \n",
      "[63]\tvalidation-rmse:5.24522                                                                                                                         \n",
      "[64]\tvalidation-rmse:5.24424                                                                                                                         \n",
      "[65]\tvalidation-rmse:5.24344                                                                                                                         \n",
      "[66]\tvalidation-rmse:5.24312                                                                                                                         \n",
      "[67]\tvalidation-rmse:5.24269                                                                                                                         \n",
      "[68]\tvalidation-rmse:5.24220                                                                                                                         \n",
      "[69]\tvalidation-rmse:5.24180                                                                                                                         \n",
      "[70]\tvalidation-rmse:5.24129                                                                                                                         \n",
      "[71]\tvalidation-rmse:5.24072                                                                                                                         \n",
      "[72]\tvalidation-rmse:5.24033                                                                                                                         \n",
      "[73]\tvalidation-rmse:5.23930                                                                                                                         \n",
      "[74]\tvalidation-rmse:5.23876                                                                                                                         \n",
      "[75]\tvalidation-rmse:5.23865                                                                                                                         \n",
      "[76]\tvalidation-rmse:5.23846                                                                                                                         \n",
      "[77]\tvalidation-rmse:5.23808                                                                                                                         \n",
      "[78]\tvalidation-rmse:5.23723                                                                                                                         \n",
      "[79]\tvalidation-rmse:5.23640                                                                                                                         \n",
      "[80]\tvalidation-rmse:5.23622                                                                                                                         \n",
      "[81]\tvalidation-rmse:5.23597                                                                                                                         \n",
      "[82]\tvalidation-rmse:5.23521                                                                                                                         \n",
      "[83]\tvalidation-rmse:5.23440                                                                                                                         \n",
      "[84]\tvalidation-rmse:5.23321                                                                                                                         \n",
      "[85]\tvalidation-rmse:5.23219                                                                                                                         \n",
      "[86]\tvalidation-rmse:5.23102                                                                                                                         \n",
      "[87]\tvalidation-rmse:5.23034                                                                                                                         \n",
      "[88]\tvalidation-rmse:5.22896                                                                                                                         \n",
      "[89]\tvalidation-rmse:5.22760                                                                                                                         \n",
      "[90]\tvalidation-rmse:5.22641                                                                                                                         \n",
      "[91]\tvalidation-rmse:5.22506                                                                                                                         \n",
      "[92]\tvalidation-rmse:5.22467                                                                                                                         \n",
      "[93]\tvalidation-rmse:5.22421                                                                                                                         \n",
      "[94]\tvalidation-rmse:5.22354                                                                                                                         \n",
      "[95]\tvalidation-rmse:5.22274                                                                                                                         \n",
      "[96]\tvalidation-rmse:5.22260                                                                                                                         \n",
      "[97]\tvalidation-rmse:5.22245                                                                                                                         \n",
      "[98]\tvalidation-rmse:5.22170                                                                                                                         \n",
      "[99]\tvalidation-rmse:5.22121                                                                                                                         \n",
      "[0]\tvalidation-rmse:8.55020                                                                                                                          \n",
      "[1]\tvalidation-rmse:8.06526                                                                                                                          \n",
      "[2]\tvalidation-rmse:7.64772                                                                                                                          \n",
      "[3]\tvalidation-rmse:7.29002                                                                                                                          \n",
      "[4]\tvalidation-rmse:6.98465                                                                                                                          \n",
      "[5]\tvalidation-rmse:6.72569                                                                                                                          \n",
      "[6]\tvalidation-rmse:6.50599                                                                                                                          \n",
      "[7]\tvalidation-rmse:6.32130                                                                                                                          \n",
      "[8]\tvalidation-rmse:6.16664                                                                                                                          \n",
      "[9]\tvalidation-rmse:6.03797                                                                                                                          \n",
      "[10]\tvalidation-rmse:5.92978                                                                                                                         \n",
      "[11]\tvalidation-rmse:5.84001                                                                                                                         \n",
      "[12]\tvalidation-rmse:5.76546                                                                                                                         \n",
      "[13]\tvalidation-rmse:5.70346                                                                                                                         \n",
      "[14]\tvalidation-rmse:5.65194                                                                                                                         \n",
      "[15]\tvalidation-rmse:5.60933                                                                                                                         \n",
      "[16]\tvalidation-rmse:5.57376                                                                                                                         \n",
      "[17]\tvalidation-rmse:5.54379                                                                                                                         \n",
      "[18]\tvalidation-rmse:5.51867                                                                                                                         \n",
      "[19]\tvalidation-rmse:5.49798                                                                                                                         \n",
      "[20]\tvalidation-rmse:5.47966                                                                                                                         \n",
      "[21]\tvalidation-rmse:5.46498                                                                                                                         \n",
      "[22]\tvalidation-rmse:5.45252                                                                                                                         \n",
      "[23]\tvalidation-rmse:5.44127                                                                                                                         \n",
      "[24]\tvalidation-rmse:5.43230                                                                                                                         \n",
      "[25]\tvalidation-rmse:5.42423                                                                                                                         \n",
      "[26]\tvalidation-rmse:5.41724                                                                                                                         \n",
      "[27]\tvalidation-rmse:5.41148                                                                                                                         \n",
      "[28]\tvalidation-rmse:5.40698                                                                                                                         \n",
      "[29]\tvalidation-rmse:5.40238                                                                                                                         \n",
      "[30]\tvalidation-rmse:5.39865                                                                                                                         \n",
      "[31]\tvalidation-rmse:5.39539                                                                                                                         \n",
      "[32]\tvalidation-rmse:5.39270                                                                                                                         \n",
      "[33]\tvalidation-rmse:5.38932                                                                                                                         \n",
      "[34]\tvalidation-rmse:5.38685                                                                                                                         \n",
      "[35]\tvalidation-rmse:5.38450                                                                                                                         \n",
      "[36]\tvalidation-rmse:5.38201                                                                                                                         \n",
      "[37]\tvalidation-rmse:5.38027                                                                                                                         \n",
      "[38]\tvalidation-rmse:5.37791                                                                                                                         \n",
      "[39]\tvalidation-rmse:5.37548                                                                                                                         \n",
      "[40]\tvalidation-rmse:5.37376                                                                                                                         \n",
      "[41]\tvalidation-rmse:5.37217                                                                                                                         \n",
      "[42]\tvalidation-rmse:5.37017                                                                                                                         \n",
      "[43]\tvalidation-rmse:5.36872                                                                                                                         \n",
      "[44]\tvalidation-rmse:5.36746                                                                                                                         \n",
      "[45]\tvalidation-rmse:5.36666                                                                                                                         \n",
      "[46]\tvalidation-rmse:5.36544                                                                                                                         \n",
      "[47]\tvalidation-rmse:5.36461                                                                                                                         \n",
      "[48]\tvalidation-rmse:5.36279                                                                                                                         \n",
      "[49]\tvalidation-rmse:5.36203                                                                                                                         \n",
      "[50]\tvalidation-rmse:5.36166                                                                                                                         \n",
      "[51]\tvalidation-rmse:5.36107                                                                                                                         \n",
      "[52]\tvalidation-rmse:5.35993                                                                                                                         \n",
      "[53]\tvalidation-rmse:5.35933                                                                                                                         \n",
      "[54]\tvalidation-rmse:5.35757                                                                                                                         \n",
      "[55]\tvalidation-rmse:5.35687                                                                                                                         \n",
      "[56]\tvalidation-rmse:5.35626                                                                                                                         \n",
      "[57]\tvalidation-rmse:5.35592                                                                                                                         \n",
      "[58]\tvalidation-rmse:5.35523                                                                                                                         \n",
      "[59]\tvalidation-rmse:5.35488                                                                                                                         \n",
      "[60]\tvalidation-rmse:5.35384                                                                                                                         \n",
      "[61]\tvalidation-rmse:5.35332                                                                                                                         \n",
      "[62]\tvalidation-rmse:5.35270                                                                                                                         \n",
      "[63]\tvalidation-rmse:5.35211                                                                                                                         \n",
      "[64]\tvalidation-rmse:5.35180                                                                                                                         \n",
      "[65]\tvalidation-rmse:5.35142                                                                                                                         \n",
      "[66]\tvalidation-rmse:5.35112                                                                                                                         \n",
      "[67]\tvalidation-rmse:5.35082                                                                                                                         \n",
      "[68]\tvalidation-rmse:5.35042                                                                                                                         \n",
      "[69]\tvalidation-rmse:5.35009                                                                                                                         \n",
      "[70]\tvalidation-rmse:5.34967                                                                                                                         \n",
      "[71]\tvalidation-rmse:5.34863                                                                                                                         \n",
      "[72]\tvalidation-rmse:5.34830                                                                                                                         \n",
      "[73]\tvalidation-rmse:5.34804                                                                                                                         \n",
      "[74]\tvalidation-rmse:5.34753                                                                                                                         \n",
      "[75]\tvalidation-rmse:5.34643                                                                                                                         \n",
      "[76]\tvalidation-rmse:5.34632                                                                                                                         \n",
      "[77]\tvalidation-rmse:5.34613                                                                                                                         \n",
      "[78]\tvalidation-rmse:5.34598                                                                                                                         \n",
      "[79]\tvalidation-rmse:5.34572                                                                                                                         \n",
      "[80]\tvalidation-rmse:5.34536                                                                                                                         \n",
      "[81]\tvalidation-rmse:5.34510                                                                                                                         \n",
      "[82]\tvalidation-rmse:5.34328                                                                                                                         \n",
      "[83]\tvalidation-rmse:5.34287                                                                                                                         \n",
      "[84]\tvalidation-rmse:5.34237                                                                                                                         \n",
      "[85]\tvalidation-rmse:5.34195                                                                                                                         \n",
      "[86]\tvalidation-rmse:5.34193                                                                                                                         \n",
      "[87]\tvalidation-rmse:5.34160                                                                                                                         \n",
      "[88]\tvalidation-rmse:5.34030                                                                                                                         \n",
      "[89]\tvalidation-rmse:5.34012                                                                                                                         \n",
      "[90]\tvalidation-rmse:5.33997                                                                                                                         \n",
      "[91]\tvalidation-rmse:5.33980                                                                                                                         \n",
      "[92]\tvalidation-rmse:5.33873                                                                                                                         \n",
      "[93]\tvalidation-rmse:5.33823                                                                                                                         \n",
      "[94]\tvalidation-rmse:5.33804                                                                                                                         \n",
      "[95]\tvalidation-rmse:5.33756                                                                                                                         \n",
      "[96]\tvalidation-rmse:5.33713                                                                                                                         \n",
      "[97]\tvalidation-rmse:5.33687                                                                                                                         \n",
      "[98]\tvalidation-rmse:5.33675                                                                                                                         \n",
      "[99]\tvalidation-rmse:5.33654                                                                                                                         \n",
      "100%|█████████████████████████████████████████████████████████████████████████████████| 3/3 [02:53<00:00, 57.70s/trial, best loss: 5.218622162238321]\n"
     ]
    }
   ],
   "source": [
    "# fmin method tries to minimize the obj function with the algorithm tpe\n",
    "best_result = fmin(\n",
    "    fn=objective,\n",
    "    space=search_space,\n",
    "    algo=tpe.suggest,\n",
    "    max_evals=3,\n",
    "    trials=Trials()\n",
    ")"
   ]
  },
  {
   "cell_type": "markdown",
   "id": "f21ad556-4028-4dcb-8073-06a104a8ba3e",
   "metadata": {},
   "source": [
    "### Train best model"
   ]
  },
  {
   "cell_type": "code",
   "execution_count": 18,
   "id": "2994813d-f06b-4200-886f-5947e08f46e6",
   "metadata": {
    "scrolled": true
   },
   "outputs": [
    {
     "name": "stderr",
     "output_type": "stream",
     "text": [
      "2024/11/27 17:59:25 INFO mlflow.utils.autologging_utils: Created MLflow autologging run with ID 'a9a9806159914359bc8dabfa5790095c', which will track hyperparameters, performance metrics, model artifacts, and lineage information for the current xgboost workflow\n"
     ]
    },
    {
     "name": "stdout",
     "output_type": "stream",
     "text": [
      "[0]\tvalidation-rmse:5.60909\n",
      "[1]\tvalidation-rmse:5.34361\n",
      "[2]\tvalidation-rmse:5.30665\n",
      "[3]\tvalidation-rmse:5.29071\n",
      "[4]\tvalidation-rmse:5.28842\n",
      "[5]\tvalidation-rmse:5.29025\n",
      "[6]\tvalidation-rmse:5.27345\n",
      "[7]\tvalidation-rmse:5.26109\n",
      "[8]\tvalidation-rmse:5.25938\n",
      "[9]\tvalidation-rmse:5.24434\n",
      "[10]\tvalidation-rmse:5.24280\n",
      "[11]\tvalidation-rmse:5.24408\n",
      "[12]\tvalidation-rmse:5.24225\n",
      "[13]\tvalidation-rmse:5.24407\n",
      "[14]\tvalidation-rmse:5.24436\n",
      "[15]\tvalidation-rmse:5.24270\n",
      "[16]\tvalidation-rmse:5.23825\n",
      "[17]\tvalidation-rmse:5.23727\n",
      "[18]\tvalidation-rmse:5.23499\n",
      "[19]\tvalidation-rmse:5.23482\n",
      "[20]\tvalidation-rmse:5.23417\n",
      "[21]\tvalidation-rmse:5.23275\n",
      "[22]\tvalidation-rmse:5.23263\n",
      "[23]\tvalidation-rmse:5.22892\n",
      "[24]\tvalidation-rmse:5.23092\n",
      "[25]\tvalidation-rmse:5.22924\n",
      "[26]\tvalidation-rmse:5.22964\n",
      "[27]\tvalidation-rmse:5.22905\n",
      "[28]\tvalidation-rmse:5.22843\n",
      "[29]\tvalidation-rmse:5.22721\n",
      "[30]\tvalidation-rmse:5.22918\n",
      "[31]\tvalidation-rmse:5.22771\n",
      "[32]\tvalidation-rmse:5.23057\n",
      "[33]\tvalidation-rmse:5.22846\n",
      "[34]\tvalidation-rmse:5.22943\n",
      "[35]\tvalidation-rmse:5.22994\n",
      "[36]\tvalidation-rmse:5.22774\n",
      "[37]\tvalidation-rmse:5.23174\n",
      "[38]\tvalidation-rmse:5.22989\n",
      "[39]\tvalidation-rmse:5.23127\n",
      "[40]\tvalidation-rmse:5.23099\n",
      "[41]\tvalidation-rmse:5.23167\n",
      "[42]\tvalidation-rmse:5.23098\n",
      "[43]\tvalidation-rmse:5.23127\n",
      "[44]\tvalidation-rmse:5.23141\n",
      "[45]\tvalidation-rmse:5.23083\n",
      "[46]\tvalidation-rmse:5.23043\n",
      "[47]\tvalidation-rmse:5.23042\n",
      "[48]\tvalidation-rmse:5.23024\n",
      "[49]\tvalidation-rmse:5.23088\n",
      "[50]\tvalidation-rmse:5.23051\n",
      "[51]\tvalidation-rmse:5.22995\n",
      "[52]\tvalidation-rmse:5.22799\n",
      "[53]\tvalidation-rmse:5.22787\n",
      "[54]\tvalidation-rmse:5.22850\n",
      "[55]\tvalidation-rmse:5.22777\n",
      "[56]\tvalidation-rmse:5.22881\n",
      "[57]\tvalidation-rmse:5.22719\n",
      "[58]\tvalidation-rmse:5.22897\n",
      "[59]\tvalidation-rmse:5.22689\n",
      "[60]\tvalidation-rmse:5.22889\n",
      "[61]\tvalidation-rmse:5.23070\n",
      "[62]\tvalidation-rmse:5.22906\n",
      "[63]\tvalidation-rmse:5.23116\n",
      "[64]\tvalidation-rmse:5.22953\n",
      "[65]\tvalidation-rmse:5.22672\n",
      "[66]\tvalidation-rmse:5.22772\n",
      "[67]\tvalidation-rmse:5.22850\n",
      "[68]\tvalidation-rmse:5.23008\n",
      "[69]\tvalidation-rmse:5.22949\n",
      "[70]\tvalidation-rmse:5.23062\n",
      "[71]\tvalidation-rmse:5.22886\n",
      "[72]\tvalidation-rmse:5.22828\n",
      "[73]\tvalidation-rmse:5.22830\n",
      "[74]\tvalidation-rmse:5.22774\n",
      "[75]\tvalidation-rmse:5.22793\n",
      "[76]\tvalidation-rmse:5.22832\n",
      "[77]\tvalidation-rmse:5.22750\n",
      "[78]\tvalidation-rmse:5.22861\n",
      "[79]\tvalidation-rmse:5.22874\n",
      "[80]\tvalidation-rmse:5.22975\n",
      "[81]\tvalidation-rmse:5.23042\n",
      "[82]\tvalidation-rmse:5.22981\n",
      "[83]\tvalidation-rmse:5.23031\n",
      "[84]\tvalidation-rmse:5.23185\n",
      "[85]\tvalidation-rmse:5.23139\n",
      "[86]\tvalidation-rmse:5.23158\n",
      "[87]\tvalidation-rmse:5.23129\n",
      "[88]\tvalidation-rmse:5.23144\n",
      "[89]\tvalidation-rmse:5.23143\n",
      "[90]\tvalidation-rmse:5.23204\n",
      "[91]\tvalidation-rmse:5.23278\n",
      "[92]\tvalidation-rmse:5.23324\n",
      "[93]\tvalidation-rmse:5.23260\n",
      "[94]\tvalidation-rmse:5.23277\n",
      "[95]\tvalidation-rmse:5.23173\n",
      "[96]\tvalidation-rmse:5.23074\n",
      "[97]\tvalidation-rmse:5.23107\n",
      "[98]\tvalidation-rmse:5.23019\n",
      "[99]\tvalidation-rmse:5.23187\n"
     ]
    },
    {
     "name": "stderr",
     "output_type": "stream",
     "text": [
      "2024/11/27 17:59:42 WARNING mlflow.xgboost: Failed to infer model signature: could not sample data to infer model signature: please ensure that autologging is enabled before constructing the dataset.\n",
      "2024/11/27 17:59:42 WARNING mlflow.utils.autologging_utils: MLflow autologging encountered a warning: \"/opt/conda/lib/python3.12/site-packages/xgboost/core.py:158: UserWarning: [17:59:42] WARNING: /workspace/src/c_api/c_api.cc:1374: Saving model in the UBJSON format as default.  You can use file extension: `json`, `ubj` or `deprecated` to choose between formats.\"\n",
      "2024/11/27 17:59:45 WARNING mlflow.models.model: Model logged without a signature and input example. Please set `input_example` parameter when logging the model to auto infer the model signature.\n"
     ]
    }
   ],
   "source": [
    "# autolog works only with certain frameworks -> check documentation\n",
    "best_params = {\n",
    "    'learning_rate': 0.7796116539991661,\n",
    "    'max_depth': 58,\n",
    "    'min_child_weight': 5.171721905211863,\n",
    "    'objective': 'reg:squarederror',\n",
    "    'reg_alpha': 0.3147724697905352,\n",
    "    'reg_lambda': 0.01549469142014421,\n",
    "    'seed': 42\n",
    "}\n",
    "\n",
    "mlflow.xgboost.autolog()\n",
    "\n",
    "booster = xgb.train(\n",
    "    params=best_params,\n",
    "    dtrain=train,\n",
    "    num_boost_round=100,\n",
    "    evals=[(valid, 'validation')],\n",
    "    early_stopping_rounds=50\n",
    ")"
   ]
  },
  {
   "cell_type": "markdown",
   "id": "9e318ad6-8a6b-4fb0-81e5-fe28c80bd369",
   "metadata": {},
   "source": [
    "---\n",
    "# 2.4 Model management"
   ]
  },
  {
   "cell_type": "markdown",
   "id": "1a23f38f-bf08-485e-8728-3488ed8eb929",
   "metadata": {},
   "source": [
    "### Save model artifacts"
   ]
  },
  {
   "cell_type": "markdown",
   "id": "8ba24bcc-38a4-4cf1-924c-7705a8cdbf1b",
   "metadata": {},
   "source": [
    "#### 1. Naive"
   ]
  },
  {
   "cell_type": "code",
   "execution_count": 21,
   "id": "f72d1b84-6079-441b-9d36-2dc290593538",
   "metadata": {},
   "outputs": [],
   "source": [
    "# fit Lasso Regression\n",
    "\n",
    "# ML Flow log\n",
    "with mlflow.start_run():\n",
    "\n",
    "    # run tag: utils for run filtering\n",
    "    mlflow.set_tag('developer', 'leonardo')\n",
    "    mlflow.set_tag('model', 'lasso')\n",
    "\n",
    "    # useful parameters\n",
    "    mlflow.log_param('train-data-path', 'green_tripdata_2024-01.parquet')\n",
    "    mlflow.log_param('val-data-path', 'green_tripdata_2024-02.parquet')\n",
    "    alpha = 0.1\n",
    "    mlflow.log_param('alpha', alpha)\n",
    "    \n",
    "    lr = Lasso(alpha=alpha)\n",
    "    lr.fit(X_train, y_train)\n",
    "    # predict on validation\n",
    "    y_val_hat = lr.predict(X_val)\n",
    "    rmse = root_mean_squared_error(y_val, y_val_hat)\n",
    "\n",
    "    # metrics\n",
    "    mlflow.log_metric('rmse', rmse)\n",
    "\n",
    "    with open('models/lasso_reg.bin', 'wb') as f_out:\n",
    "        pickle.dump((dv, lr), f_out)\n",
    "\n",
    "    mlflow.log_artifact(local_path='models/lasso_reg.bin', artifact_path='models_pickle/lasso_reg.bin')"
   ]
  },
  {
   "cell_type": "markdown",
   "id": "12a60fdd-854a-409f-b348-b56a3efbf14c",
   "metadata": {},
   "source": [
    "#### 2. Advanced "
   ]
  },
  {
   "cell_type": "code",
   "execution_count": 25,
   "id": "8eb4491d-e9dc-417f-957c-1678cd2e4a33",
   "metadata": {
    "scrolled": true
   },
   "outputs": [
    {
     "name": "stdout",
     "output_type": "stream",
     "text": [
      "[0]\tvalidation-rmse:5.60909\n",
      "[1]\tvalidation-rmse:5.34361\n",
      "[2]\tvalidation-rmse:5.30665\n",
      "[3]\tvalidation-rmse:5.29071\n",
      "[4]\tvalidation-rmse:5.28842\n",
      "[5]\tvalidation-rmse:5.29025\n",
      "[6]\tvalidation-rmse:5.27345\n",
      "[7]\tvalidation-rmse:5.26109\n",
      "[8]\tvalidation-rmse:5.25938\n",
      "[9]\tvalidation-rmse:5.24434\n",
      "[10]\tvalidation-rmse:5.24280\n",
      "[11]\tvalidation-rmse:5.24408\n",
      "[12]\tvalidation-rmse:5.24225\n",
      "[13]\tvalidation-rmse:5.24407\n",
      "[14]\tvalidation-rmse:5.24436\n",
      "[15]\tvalidation-rmse:5.24270\n",
      "[16]\tvalidation-rmse:5.23825\n",
      "[17]\tvalidation-rmse:5.23727\n",
      "[18]\tvalidation-rmse:5.23499\n",
      "[19]\tvalidation-rmse:5.23482\n",
      "[20]\tvalidation-rmse:5.23417\n",
      "[21]\tvalidation-rmse:5.23275\n",
      "[22]\tvalidation-rmse:5.23263\n",
      "[23]\tvalidation-rmse:5.22892\n",
      "[24]\tvalidation-rmse:5.23092\n",
      "[25]\tvalidation-rmse:5.22924\n",
      "[26]\tvalidation-rmse:5.22964\n",
      "[27]\tvalidation-rmse:5.22905\n",
      "[28]\tvalidation-rmse:5.22843\n",
      "[29]\tvalidation-rmse:5.22721\n",
      "[30]\tvalidation-rmse:5.22918\n",
      "[31]\tvalidation-rmse:5.22771\n",
      "[32]\tvalidation-rmse:5.23057\n",
      "[33]\tvalidation-rmse:5.22846\n",
      "[34]\tvalidation-rmse:5.22943\n",
      "[35]\tvalidation-rmse:5.22994\n",
      "[36]\tvalidation-rmse:5.22774\n",
      "[37]\tvalidation-rmse:5.23174\n",
      "[38]\tvalidation-rmse:5.22989\n",
      "[39]\tvalidation-rmse:5.23127\n",
      "[40]\tvalidation-rmse:5.23099\n",
      "[41]\tvalidation-rmse:5.23167\n",
      "[42]\tvalidation-rmse:5.23098\n",
      "[43]\tvalidation-rmse:5.23127\n",
      "[44]\tvalidation-rmse:5.23141\n",
      "[45]\tvalidation-rmse:5.23083\n",
      "[46]\tvalidation-rmse:5.23043\n",
      "[47]\tvalidation-rmse:5.23042\n",
      "[48]\tvalidation-rmse:5.23024\n",
      "[49]\tvalidation-rmse:5.23088\n",
      "[50]\tvalidation-rmse:5.23051\n",
      "[51]\tvalidation-rmse:5.22995\n",
      "[52]\tvalidation-rmse:5.22799\n",
      "[53]\tvalidation-rmse:5.22787\n",
      "[54]\tvalidation-rmse:5.22850\n",
      "[55]\tvalidation-rmse:5.22777\n",
      "[56]\tvalidation-rmse:5.22881\n",
      "[57]\tvalidation-rmse:5.22719\n",
      "[58]\tvalidation-rmse:5.22897\n",
      "[59]\tvalidation-rmse:5.22689\n",
      "[60]\tvalidation-rmse:5.22889\n",
      "[61]\tvalidation-rmse:5.23070\n",
      "[62]\tvalidation-rmse:5.22906\n",
      "[63]\tvalidation-rmse:5.23116\n",
      "[64]\tvalidation-rmse:5.22953\n",
      "[65]\tvalidation-rmse:5.22672\n",
      "[66]\tvalidation-rmse:5.22772\n",
      "[67]\tvalidation-rmse:5.22850\n",
      "[68]\tvalidation-rmse:5.23008\n",
      "[69]\tvalidation-rmse:5.22949\n",
      "[70]\tvalidation-rmse:5.23062\n",
      "[71]\tvalidation-rmse:5.22886\n",
      "[72]\tvalidation-rmse:5.22828\n",
      "[73]\tvalidation-rmse:5.22830\n",
      "[74]\tvalidation-rmse:5.22774\n",
      "[75]\tvalidation-rmse:5.22793\n",
      "[76]\tvalidation-rmse:5.22832\n",
      "[77]\tvalidation-rmse:5.22750\n",
      "[78]\tvalidation-rmse:5.22861\n",
      "[79]\tvalidation-rmse:5.22874\n",
      "[80]\tvalidation-rmse:5.22975\n",
      "[81]\tvalidation-rmse:5.23042\n",
      "[82]\tvalidation-rmse:5.22981\n",
      "[83]\tvalidation-rmse:5.23031\n",
      "[84]\tvalidation-rmse:5.23185\n",
      "[85]\tvalidation-rmse:5.23139\n",
      "[86]\tvalidation-rmse:5.23158\n",
      "[87]\tvalidation-rmse:5.23129\n",
      "[88]\tvalidation-rmse:5.23144\n",
      "[89]\tvalidation-rmse:5.23143\n",
      "[90]\tvalidation-rmse:5.23204\n",
      "[91]\tvalidation-rmse:5.23278\n",
      "[92]\tvalidation-rmse:5.23324\n",
      "[93]\tvalidation-rmse:5.23260\n",
      "[94]\tvalidation-rmse:5.23277\n",
      "[95]\tvalidation-rmse:5.23173\n",
      "[96]\tvalidation-rmse:5.23074\n",
      "[97]\tvalidation-rmse:5.23107\n",
      "[98]\tvalidation-rmse:5.23019\n",
      "[99]\tvalidation-rmse:5.23187\n"
     ]
    },
    {
     "name": "stderr",
     "output_type": "stream",
     "text": [
      "/home/codespace/.local/lib/python3.12/site-packages/sklearn/metrics/_regression.py:492: FutureWarning: 'squared' is deprecated in version 1.4 and will be removed in 1.6. To calculate the root mean squared error, use the function'root_mean_squared_error'.\n",
      "  warnings.warn(\n",
      "/opt/conda/lib/python3.12/site-packages/xgboost/core.py:158: UserWarning: [17:56:43] WARNING: /workspace/src/c_api/c_api.cc:1374: Saving model in the UBJSON format as default.  You can use file extension: `json`, `ubj` or `deprecated` to choose between formats.\n",
      "  warnings.warn(smsg, UserWarning)\n",
      "2024/12/04 17:56:45 WARNING mlflow.models.model: Model logged without a signature and input example. Please set `input_example` parameter when logging the model to auto infer the model signature.\n"
     ]
    }
   ],
   "source": [
    "import xgboost as xgb\n",
    "\n",
    "train = xgb.DMatrix(X_train, label=y_train)\n",
    "valid = xgb.DMatrix(X_val, label=y_val)\n",
    "\n",
    "mlflow.xgboost.autolog(disable=True)\n",
    "\n",
    "with mlflow.start_run():\n",
    "    best_params = {\n",
    "        'learning_rate': 0.7796116539991661,\n",
    "        'max_depth': 58,\n",
    "        'min_child_weight': 5.171721905211863,\n",
    "        'objective': 'reg:squarederror',\n",
    "        'reg_alpha': 0.3147724697905352,\n",
    "        'reg_lambda': 0.01549469142014421,\n",
    "        'seed': 42\n",
    "    }\n",
    "    \n",
    "    mlflow.log_params(best_params)\n",
    "    \n",
    "    booster = xgb.train(\n",
    "        params=best_params,\n",
    "        dtrain=train,\n",
    "        num_boost_round=100,\n",
    "        evals=[(valid, 'validation')],\n",
    "        early_stopping_rounds=50\n",
    "    )\n",
    "\n",
    "    y_pred = booster.predict(valid)\n",
    "    rmse = mean_squared_error(y_val, y_pred, squared=False)\n",
    "    mlflow.log_metric('rmse', rmse)\n",
    "\n",
    "    with open ('models/preprocessor.b', 'wb') as f_out:\n",
    "        pickle.dump(dv, f_out)\n",
    "        \n",
    "    # save preprocessing as artifact\n",
    "    mlflow.log_artifact('models/preprocessor.b', artifact_path='preprocessor')\n",
    "\n",
    "    # model saving\n",
    "    mlflow.xgboost.log_model(booster, artifact_path='models_mlflow')"
   ]
  },
  {
   "cell_type": "markdown",
   "id": "2fb4c6bb-86d2-4b14-8b25-491e45c9ba5c",
   "metadata": {},
   "source": [
    "### Import Artifact"
   ]
  },
  {
   "cell_type": "markdown",
   "id": "757054c8-903a-41d4-96f6-8fd54d964047",
   "metadata": {},
   "source": [
    "#### 1. Log as python function"
   ]
  },
  {
   "cell_type": "code",
   "execution_count": 28,
   "id": "2a4eadd6-778a-4f79-b40f-c911b50d33b8",
   "metadata": {},
   "outputs": [
    {
     "data": {
      "text/plain": [
       "mlflow.pyfunc.loaded_model:\n",
       "  artifact_path: models_mlflow\n",
       "  flavor: mlflow.xgboost\n",
       "  run_id: 4ae919aba7d04337a76c12fc214fdd31"
      ]
     },
     "execution_count": 28,
     "metadata": {},
     "output_type": "execute_result"
    }
   ],
   "source": [
    "logged_model = 'runs:/4ae919aba7d04337a76c12fc214fdd31/models_mlflow'\n",
    "\n",
    "# Load model as a PyFuncModel.\n",
    "loaded_model = mlflow.pyfunc.load_model(logged_model)\n",
    "\n",
    "loaded_model"
   ]
  },
  {
   "cell_type": "markdown",
   "id": "c36f1427-4c05-4e18-857a-2ce36b78699b",
   "metadata": {},
   "source": [
    "#### 2. Log as mlflow model"
   ]
  },
  {
   "cell_type": "code",
   "execution_count": 29,
   "id": "64eb9368-e31a-4247-826a-bf075f1ac5cb",
   "metadata": {},
   "outputs": [
    {
     "data": {
      "text/plain": [
       "<xgboost.core.Booster at 0x70cc06683560>"
      ]
     },
     "execution_count": 29,
     "metadata": {},
     "output_type": "execute_result"
    }
   ],
   "source": [
    "xgboost_model = mlflow.xgboost.load_model(logged_model)\n",
    "xgboost_model"
   ]
  },
  {
   "cell_type": "markdown",
   "id": "efa137dd-6215-47e3-9f46-e92fe9a42c04",
   "metadata": {},
   "source": [
    "### Predict"
   ]
  },
  {
   "cell_type": "code",
   "execution_count": 30,
   "id": "e507ee62-b3a5-4acf-8bc1-b6dbb885ee1c",
   "metadata": {},
   "outputs": [
    {
     "data": {
      "text/plain": [
       "array([19.275356, 28.798018,  8.098671, ..., 32.05554 , 13.361015,\n",
       "       20.312605], dtype=float32)"
      ]
     },
     "execution_count": 30,
     "metadata": {},
     "output_type": "execute_result"
    }
   ],
   "source": [
    "xgboost_model.predict(valid)"
   ]
  },
  {
   "cell_type": "markdown",
   "id": "116c0162-1776-47b8-8da7-f47d831a3383",
   "metadata": {},
   "source": [
    "---\n",
    "# 2.5 Model registry"
   ]
  },
  {
   "cell_type": "code",
   "execution_count": null,
   "id": "a54be8c9-5539-4d5f-80a2-40e72fc9900b",
   "metadata": {},
   "outputs": [],
   "source": []
  }
 ],
 "metadata": {
  "kernelspec": {
   "display_name": "Python 3 (ipykernel)",
   "language": "python",
   "name": "python3"
  },
  "language_info": {
   "codemirror_mode": {
    "name": "ipython",
    "version": 3
   },
   "file_extension": ".py",
   "mimetype": "text/x-python",
   "name": "python",
   "nbconvert_exporter": "python",
   "pygments_lexer": "ipython3",
   "version": "3.12.3"
  }
 },
 "nbformat": 4,
 "nbformat_minor": 5
}
