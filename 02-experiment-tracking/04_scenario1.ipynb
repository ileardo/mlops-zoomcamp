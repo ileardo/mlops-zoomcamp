{
 "cells": [
  {
   "cell_type": "markdown",
   "id": "f66936ba-6129-4e7b-ab70-95704fd81706",
   "metadata": {},
   "source": [
    "# 2.6 MLflow in practice"
   ]
  },
  {
   "cell_type": "markdown",
   "id": "ced1074d-5f1f-4d19-993f-92102d4fda43",
   "metadata": {},
   "source": [
    "## Scenario 1: single data scientist participating in a ML competition  \n",
    "\n",
    "**MLflow setup**:\n",
    "* **Tracking server**: no\n",
    "* **Backend store**:   local filesystem\n",
    "* **Artifact store**:  local filesystem"
   ]
  },
  {
   "cell_type": "markdown",
   "id": "88b17bc1-edf7-4dde-b1fb-304e30077c56",
   "metadata": {},
   "source": [
    "---"
   ]
  },
  {
   "cell_type": "code",
   "execution_count": 1,
   "id": "e4d92367-a47b-4c68-92e6-8dfd158e11ac",
   "metadata": {},
   "outputs": [],
   "source": [
    "import mlflow"
   ]
  },
  {
   "cell_type": "markdown",
   "id": "fec1d3a3-3bdc-4d06-86cf-6ca6d3b4b686",
   "metadata": {},
   "source": [
    "No need to specify tracking URI: store in local filesystem"
   ]
  },
  {
   "cell_type": "code",
   "execution_count": 2,
   "id": "2903afaa-fa6a-4dac-9258-b1eadcb65b77",
   "metadata": {},
   "outputs": [
    {
     "name": "stdout",
     "output_type": "stream",
     "text": [
      "tracking URI: file:///workspaces/mlops-zoomcamp/02-experiment-tracking/mlruns\n"
     ]
    }
   ],
   "source": [
    "# default local filesystem\n",
    "print(f'tracking URI: {mlflow.get_tracking_uri()}')"
   ]
  },
  {
   "cell_type": "code",
   "execution_count": null,
   "id": "7b451a1a-1348-4cd6-bacf-ff3ba3d1f27d",
   "metadata": {},
   "outputs": [],
   "source": [
    "mlflow.search_experiments()"
   ]
  },
  {
   "cell_type": "code",
   "execution_count": null,
   "id": "6763e3c2-16df-4cb0-968e-77ac8b53eb1c",
   "metadata": {},
   "outputs": [],
   "source": []
  }
 ],
 "metadata": {
  "kernelspec": {
   "display_name": "Python 3 (ipykernel)",
   "language": "python",
   "name": "python3"
  },
  "language_info": {
   "codemirror_mode": {
    "name": "ipython",
    "version": 3
   },
   "file_extension": ".py",
   "mimetype": "text/x-python",
   "name": "python",
   "nbconvert_exporter": "python",
   "pygments_lexer": "ipython3",
   "version": "3.12.3"
  }
 },
 "nbformat": 4,
 "nbformat_minor": 5
}
