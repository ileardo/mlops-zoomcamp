{
 "cells": [
  {
   "cell_type": "markdown",
   "id": "7e641f01-5d55-41a4-884b-3d2aeb51e107",
   "metadata": {},
   "source": [
    "# 2.5 Model registry"
   ]
  },
  {
   "cell_type": "code",
   "execution_count": 5,
   "id": "a7ea9521-30c0-4c09-a474-9f11570b544d",
   "metadata": {},
   "outputs": [],
   "source": [
    "from mlflow import MlflowClient"
   ]
  },
  {
   "cell_type": "markdown",
   "id": "dd38d934-a86c-4eba-ae4b-bc4b97103dc6",
   "metadata": {},
   "source": [
    "## Mlflow client"
   ]
  },
  {
   "cell_type": "code",
   "execution_count": 6,
   "id": "0fe3f7c0-02a0-4ef0-80cb-9e6bbacd35a8",
   "metadata": {},
   "outputs": [],
   "source": [
    "MLFLOW_TRACKING_URI = \"sqlite:///mlflow.db\"\n",
    "client = MlflowClient(tracking_uri=MLFLOW_TRACKING_URI)"
   ]
  },
  {
   "cell_type": "markdown",
   "id": "95e47281-6a02-4004-917b-99f2848ed05a",
   "metadata": {},
   "source": [
    "### Access experiments"
   ]
  },
  {
   "cell_type": "code",
   "execution_count": 7,
   "id": "b567dfd7-1cb3-48b8-a7e8-ff9d9878139b",
   "metadata": {},
   "outputs": [
    {
     "data": {
      "text/plain": [
       "[<Experiment: artifact_location='/workspaces/mlops-zoomcamp/02-experiment-tracking/mlruns/1', creation_time=1732646263960, experiment_id='1', last_update_time=1732646263960, lifecycle_stage='active', name='nyc-taxi-experiment', tags={}>,\n",
       " <Experiment: artifact_location='mlflow-artifacts:/0', creation_time=1732645905274, experiment_id='0', last_update_time=1732645905274, lifecycle_stage='active', name='Default', tags={}>]"
      ]
     },
     "execution_count": 7,
     "metadata": {},
     "output_type": "execute_result"
    }
   ],
   "source": [
    "client.search_experiments()"
   ]
  },
  {
   "cell_type": "markdown",
   "id": "6b91576f-ba2d-49c8-8e2e-cb7c416b4c2c",
   "metadata": {},
   "source": [
    "### Create new experiment"
   ]
  },
  {
   "cell_type": "code",
   "execution_count": 8,
   "id": "e6fbb2f1-5068-4a2e-8ced-5b224ba2f04f",
   "metadata": {},
   "outputs": [],
   "source": [
    "# client.create_experiment(name='test-experiment-creation')"
   ]
  },
  {
   "cell_type": "markdown",
   "id": "57e1e85f-7662-43ab-af93-32301e7039ab",
   "metadata": {},
   "source": [
    "### Access runs"
   ]
  },
  {
   "cell_type": "code",
   "execution_count": 26,
   "id": "93bc2d0d-6a04-46d2-8d97-922f3e55e401",
   "metadata": {},
   "outputs": [],
   "source": [
    "from mlflow.entities import ViewType\n",
    "\n",
    "runs = client.search_runs(\n",
    "    experiment_ids='1',                     # id experiment (e.g. nyc-taxi regressor)\n",
    "    filter_string='',                       # filter query\n",
    "    run_view_type=ViewType.ACTIVE_ONLY,     # to access active only or active and deleted\n",
    "    max_results=5,                          # max number of runs to visualize\n",
    "    order_by=['metrics.rmse ASC'],          # possible to include multiple criteria\n",
    ")"
   ]
  },
  {
   "cell_type": "code",
   "execution_count": 10,
   "id": "7cd47afe-0ccb-4bff-930f-861a967deddd",
   "metadata": {},
   "outputs": [
    {
     "data": {
      "text/plain": [
       "<Run: data=<RunData: metrics={'rmse': 5.218622162238321}, params={'learning_rate': '0.05716128214396281',\n",
       " 'max_depth': '83',\n",
       " 'min_child_weight': '2.8929928124399993',\n",
       " 'objective': 'reg:squarederror',\n",
       " 'reg_alpha': '0.06533442718772015',\n",
       " 'reg_lambda': '0.0028303214779712895',\n",
       " 'seed': '42'}, tags={'mlflow.runName': 'abrasive-slug-522',\n",
       " 'mlflow.source.name': '/home/codespace/.local/lib/python3.12/site-packages/ipykernel_launcher.py',\n",
       " 'mlflow.source.type': 'LOCAL',\n",
       " 'mlflow.user': 'codespace',\n",
       " 'model': 'xgboost'}>, info=<RunInfo: artifact_uri='/workspaces/mlops-zoomcamp/02-experiment-tracking/mlruns/1/9b8e79d747ec4568967f867c1d02acf5/artifacts', end_time=1732730282911, experiment_id='1', lifecycle_stage='active', run_id='9b8e79d747ec4568967f867c1d02acf5', run_name='abrasive-slug-522', run_uuid='9b8e79d747ec4568967f867c1d02acf5', start_time=1732730192208, status='FINISHED', user_id='codespace'>, inputs=<RunInputs: dataset_inputs=[]>>"
      ]
     },
     "execution_count": 10,
     "metadata": {},
     "output_type": "execute_result"
    }
   ],
   "source": [
    "# first run\n",
    "runs[0]"
   ]
  },
  {
   "cell_type": "code",
   "execution_count": 11,
   "id": "8f92c4fe-4a48-452e-9af1-672c7ce9a378",
   "metadata": {},
   "outputs": [
    {
     "name": "stdout",
     "output_type": "stream",
     "text": [
      "run id: 9b8e79d747ec4568967f867c1d02acf5, rmse: 5.2186\n",
      "run id: ed80bfe153d44d5098e26483cf331c9a, rmse: 5.2212\n",
      "run id: 4ae919aba7d04337a76c12fc214fdd31, rmse: 5.2319\n",
      "run id: eb35fc11f0a840d4a9c0d042ee7ce67f, rmse: 5.3365\n",
      "run id: cd1d9960f9a5482c918e1534903c9495, rmse: 5.4627\n"
     ]
    }
   ],
   "source": [
    "for run in runs:\n",
    "    print(f'run id: {run.info.run_id}, rmse: {run.data.metrics['rmse']:.4f}')"
   ]
  },
  {
   "cell_type": "markdown",
   "id": "c070edb8-b46a-49a5-b0f7-e586da4c99c3",
   "metadata": {},
   "source": [
    "## Promote models to registry"
   ]
  },
  {
   "cell_type": "code",
   "execution_count": 16,
   "id": "57f2af35-4215-4970-ac4a-d460db88eb45",
   "metadata": {},
   "outputs": [],
   "source": [
    "import mlflow\n",
    "mlflow.set_tracking_uri(MLFLOW_TRACKING_URI)"
   ]
  },
  {
   "cell_type": "markdown",
   "id": "ad4a1a84-8c97-4983-8a31-b760ac72ec79",
   "metadata": {},
   "source": [
    "### Register new model"
   ]
  },
  {
   "cell_type": "code",
   "execution_count": 15,
   "id": "34d80710-d00c-42cf-b132-7c7dcea99bbd",
   "metadata": {},
   "outputs": [
    {
     "name": "stderr",
     "output_type": "stream",
     "text": [
      "Registered model 'nyc-taxi regressor' already exists. Creating a new version of this model...\n",
      "Created version '5' of model 'nyc-taxi regressor'.\n"
     ]
    },
    {
     "data": {
      "text/plain": [
       "<ModelVersion: aliases=[], creation_timestamp=1736869500609, current_stage='None', description=None, last_updated_timestamp=1736869500609, name='nyc-taxi regressor', run_id='9b8e79d747ec4568967f867c1d02acf5', run_link=None, source='/workspaces/mlops-zoomcamp/02-experiment-tracking/mlruns/1/9b8e79d747ec4568967f867c1d02acf5/artifacts/model', status='READY', status_message=None, tags={}, user_id=None, version=5>"
      ]
     },
     "execution_count": 15,
     "metadata": {},
     "output_type": "execute_result"
    }
   ],
   "source": [
    "run_id = '9b8e79d747ec4568967f867c1d02acf5'\n",
    "model_uri = f'runs:/{run_id}/model'\n",
    "\n",
    "mlflow.register_model(model_uri=model_uri, name='nyc-taxi regressor')"
   ]
  },
  {
   "cell_type": "markdown",
   "id": "302d45c2-3014-4e34-8747-7e96194f7fce",
   "metadata": {},
   "source": [
    "### Transit a model"
   ]
  },
  {
   "cell_type": "code",
   "execution_count": 34,
   "id": "53954389-592b-423f-9f3c-dc88575e697b",
   "metadata": {},
   "outputs": [
    {
     "data": {
      "text/plain": [
       "[<RegisteredModel: aliases={'challenger': 1, 'champion': 3}, creation_timestamp=1736525607132, description='NYC taxi predictor for trip duration', last_updated_timestamp=1736869500609, latest_versions=[<ModelVersion: aliases=[], creation_timestamp=1736869500609, current_stage='None', description=None, last_updated_timestamp=1736869500609, name='nyc-taxi regressor', run_id='9b8e79d747ec4568967f867c1d02acf5', run_link=None, source='/workspaces/mlops-zoomcamp/02-experiment-tracking/mlruns/1/9b8e79d747ec4568967f867c1d02acf5/artifacts/model', status='READY', status_message=None, tags={}, user_id=None, version=5>], name='nyc-taxi regressor', tags={}>]"
      ]
     },
     "execution_count": 34,
     "metadata": {},
     "output_type": "execute_result"
    }
   ],
   "source": [
    "client.search_registered_models()"
   ]
  },
  {
   "cell_type": "code",
   "execution_count": 31,
   "id": "e71f763f-540d-40c6-b1a3-952b82659c5b",
   "metadata": {},
   "outputs": [
    {
     "name": "stderr",
     "output_type": "stream",
     "text": [
      "/tmp/ipykernel_5457/2854498232.py:2: FutureWarning: ``mlflow.tracking.client.MlflowClient.get_latest_versions`` is deprecated since 2.9.0. Model registry stages will be removed in a future major release. To learn more about the deprecation of model registry stages, see our migration guide here: https://mlflow.org/docs/latest/model-registry.html#migrating-from-stages\n",
      "  latest_versions = client.get_latest_versions(name=model_name)\n"
     ]
    }
   ],
   "source": [
    "model_name = 'nyc-taxi regressor'\n",
    "latest_versions = client.get_latest_versions(name=model_name)"
   ]
  },
  {
   "cell_type": "code",
   "execution_count": 32,
   "id": "5d20dcff-db40-482d-a2c5-5dc653f510c9",
   "metadata": {},
   "outputs": [
    {
     "name": "stdout",
     "output_type": "stream",
     "text": [
      "version: 5, alias: []\n"
     ]
    }
   ],
   "source": [
    "for version in latest_versions:\n",
    "    print(f'version: {version.version}, alias: {version.aliases}')"
   ]
  },
  {
   "cell_type": "code",
   "execution_count": 37,
   "id": "7f227b1d-fa1b-4d3e-acb2-ba36b4857f5c",
   "metadata": {},
   "outputs": [],
   "source": [
    "model_version = 5\n",
    "new_alias = 'test-alias'\n",
    "client.set_registered_model_alias(\n",
    "    name=model_name, \n",
    "    alias=new_alias, \n",
    "    version=model_version,\n",
    "    )"
   ]
  },
  {
   "cell_type": "code",
   "execution_count": 39,
   "id": "a13e48ca-4a49-49a2-b388-3ef34d099c81",
   "metadata": {},
   "outputs": [
    {
     "data": {
      "text/plain": [
       "<ModelVersion: aliases=['test-alias'], creation_timestamp=1736869500609, current_stage='None', description='The model version 5 was transitioned to test-alias on 2025-01-14', last_updated_timestamp=1736870773234, name='nyc-taxi regressor', run_id='9b8e79d747ec4568967f867c1d02acf5', run_link=None, source='/workspaces/mlops-zoomcamp/02-experiment-tracking/mlruns/1/9b8e79d747ec4568967f867c1d02acf5/artifacts/model', status='READY', status_message=None, tags={}, user_id=None, version=5>"
      ]
     },
     "execution_count": 39,
     "metadata": {},
     "output_type": "execute_result"
    }
   ],
   "source": [
    "from datetime import datetime\n",
    "\n",
    "date = datetime.today().date()\n",
    "\n",
    "client.update_model_version(\n",
    "    name=model_name,\n",
    "    version=model_version,\n",
    "    description=f'The model version {model_version} was transitioned to {new_alias} on {date}'\n",
    ")"
   ]
  },
  {
   "cell_type": "code",
   "execution_count": null,
   "id": "cb01bbd2-952c-481d-b379-9f215549bc90",
   "metadata": {},
   "outputs": [],
   "source": []
  }
 ],
 "metadata": {
  "kernelspec": {
   "display_name": "Python 3 (ipykernel)",
   "language": "python",
   "name": "python3"
  },
  "language_info": {
   "codemirror_mode": {
    "name": "ipython",
    "version": 3
   },
   "file_extension": ".py",
   "mimetype": "text/x-python",
   "name": "python",
   "nbconvert_exporter": "python",
   "pygments_lexer": "ipython3",
   "version": "3.12.3"
  }
 },
 "nbformat": 4,
 "nbformat_minor": 5
}
