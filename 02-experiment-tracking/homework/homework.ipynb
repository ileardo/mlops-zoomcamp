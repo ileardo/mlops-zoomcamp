{
 "cells": [
  {
   "cell_type": "markdown",
   "id": "82e449b9-c02b-4424-976c-151e390f6751",
   "metadata": {},
   "source": [
    "# H2\n",
    "**Goal:** The goal of this homework is to get familiar with MLflow, the tool for experiment tracking and model management. "
   ]
  },
  {
   "cell_type": "markdown",
   "id": "ee25762c-3607-4445-9bc5-31906bcbf65c",
   "metadata": {},
   "source": [
    "---"
   ]
  },
  {
   "cell_type": "markdown",
   "id": "910ea6ad-84af-4658-83d5-65443e13dcef",
   "metadata": {},
   "source": [
    "## Q1. Install MLflow  \n",
    "To get started with MLflow you'll need to install the MLflow Python package.\n",
    "\n",
    "For this we recommend creating a separate Python environment, for example, you can use [conda environments](https://docs.conda.io/projects/conda/en/latest/user-guide/getting-started.html#managing-envs), and then install the package there with `pip` or `conda`.\n",
    "\n",
    "Once you installed the package, run the command `mlflow --version` and check the output.\n",
    "\n",
    "What's the version that you have?"
   ]
  },
  {
   "cell_type": "code",
   "execution_count": 1,
   "id": "c75a69d8-62af-4aa2-aee2-e51a8bca7933",
   "metadata": {},
   "outputs": [
    {
     "name": "stdout",
     "output_type": "stream",
     "text": [
      "/opt/conda/envs/mod2/bin/python\n"
     ]
    }
   ],
   "source": [
    "!which python"
   ]
  },
  {
   "cell_type": "code",
   "execution_count": 2,
   "id": "eb6424bd-3d76-4c3a-ac2a-f5e41a66d481",
   "metadata": {},
   "outputs": [
    {
     "name": "stdout",
     "output_type": "stream",
     "text": [
      "mlflow, version 2.22.0\n"
     ]
    }
   ],
   "source": [
    "!mlflow --version"
   ]
  },
  {
   "cell_type": "markdown",
   "id": "a9b57b4d-a546-45ec-a711-c9f57ee9f11d",
   "metadata": {},
   "source": [
    "### What's the version that you have?  \n",
    "Version 2.22.0"
   ]
  },
  {
   "cell_type": "markdown",
   "id": "5a2107e6-b513-4148-bbde-ba3712a358de",
   "metadata": {},
   "source": [
    "---"
   ]
  },
  {
   "cell_type": "markdown",
   "id": "3370667d-f54e-419b-a9d5-dd587daff8d6",
   "metadata": {},
   "source": [
    "## Q2. Download and preprocess the data  \n",
    "We'll use the Green Taxi Trip Records dataset to predict the duration of each trip. \n",
    "\n",
    "Download the data for January, February and March 2023 in parquet format from [here](https://www1.nyc.gov/site/tlc/about/tlc-trip-record-data.page).\n",
    "\n",
    "Use the script `preprocess_data.py` located in the folder [`homework`](homework) to preprocess the data.\n",
    "\n",
    "The script will:\n",
    "\n",
    "* load the data from the folder `<TAXI_DATA_FOLDER>` (the folder where you have downloaded the data),\n",
    "* fit a `DictVectorizer` on the training set (January 2023 data),\n",
    "* save the preprocessed datasets and the `DictVectorizer` to disk.\n",
    "\n",
    "Your task is to download the datasets and then execute this command:\n",
    "\n",
    "```\n",
    "python preprocess_data.py --raw_data_path <TAXI_DATA_FOLDER> --dest_path ./output\n",
    "```\n",
    "\n",
    "Tip: go to `02-experiment-tracking/homework/` folder before executing the command and change the value of `<TAXI_DATA_FOLDER>` to the location where you saved the data.\n",
    "\n",
    "How many files were saved to `OUTPUT_FOLDER`?\n",
    "\n",
    "* 1\n",
    "* 3\n",
    "* 4\n",
    "* 7"
   ]
  },
  {
   "cell_type": "code",
   "execution_count": 3,
   "id": "48b79af1-3158-4789-8692-ed2fb1eb2ff2",
   "metadata": {},
   "outputs": [
    {
     "name": "stdout",
     "output_type": "stream",
     "text": [
      "Usage: preprocess_data.py [OPTIONS]\n",
      "\n",
      "Options:\n",
      "  --raw_data_path TEXT  Location where the raw NYC taxi trip data was saved\n",
      "  --dest_path TEXT      Location where the resulting files will be saved\n",
      "  --help                Show this message and exit.\n"
     ]
    }
   ],
   "source": [
    "!python preprocess_data.py --help"
   ]
  },
  {
   "cell_type": "code",
   "execution_count": 4,
   "id": "6c1c7ea0-85b5-4c33-bcb2-bac29b493b2b",
   "metadata": {},
   "outputs": [],
   "source": [
    "!python preprocess_data.py --raw_data_path ./data/raw --dest_path ./data/preprocessed"
   ]
  },
  {
   "cell_type": "code",
   "execution_count": 5,
   "id": "a3232da3-d06d-46b0-a5e9-95ff33066bd6",
   "metadata": {},
   "outputs": [
    {
     "name": "stdout",
     "output_type": "stream",
     "text": [
      "dv.pkl\ttest.pkl  train.pkl  val.pkl\n",
      "Numero di file: 4\n"
     ]
    }
   ],
   "source": [
    "!ls ./data/preprocessed\n",
    "!echo \"Numero di file:\" $(ls ./data/preprocessed | wc -l)"
   ]
  },
  {
   "cell_type": "markdown",
   "id": "6a522251-729f-45db-bef5-19b90882995c",
   "metadata": {},
   "source": [
    "### A2. How many files were saved to `OUTPUT_FOLDER`?  \n",
    "4"
   ]
  },
  {
   "cell_type": "markdown",
   "id": "ebff1e71-9dcb-4052-996e-e92774d3b7ae",
   "metadata": {},
   "source": [
    "---"
   ]
  },
  {
   "cell_type": "markdown",
   "id": "1f657ca3-fe91-4f85-966b-6c4a0c37b744",
   "metadata": {},
   "source": [
    "## Q3. Train a model with autolog  \n",
    "We will train a `RandomForestRegressor` (from Scikit-Learn) on the taxi dataset.\n",
    "\n",
    "We have prepared the training script `train.py` for this exercise, which can be also found in the folder [`homework`](homework). \n",
    "\n",
    "The script will:\n",
    "\n",
    "* load the datasets produced by the previous step,\n",
    "* train the model on the training set,\n",
    "* calculate the RMSE score on the validation set.\n",
    "\n",
    "Your task is to modify the script to enable **autologging** with MLflow, execute the script and then launch the MLflow UI to check that the experiment run was properly tracked. \n",
    "\n",
    "Tip 1: don't forget to wrap the training code with a `with mlflow.start_run():` statement as we showed in the videos.\n",
    "\n",
    "Tip 2: don't modify the hyperparameters of the model to make sure that the training will finish quickly.\n",
    "\n",
    "What is the value of the `min_samples_split` parameter?\n",
    "\n",
    "* 2\n",
    "* 4\n",
    "* 8\n",
    "* 10"
   ]
  },
  {
   "cell_type": "code",
   "execution_count": 6,
   "id": "c8c070b7-329e-4b52-8835-dc892fa487eb",
   "metadata": {},
   "outputs": [
    {
     "name": "stderr",
     "output_type": "stream",
     "text": [
      "2025/05/27 11:05:50 INFO mlflow.store.db.utils: Creating initial MLflow database tables...\n",
      "2025/05/27 11:05:50 INFO mlflow.store.db.utils: Updating database tables\n",
      "INFO  [alembic.runtime.migration] Context impl SQLiteImpl.\n",
      "INFO  [alembic.runtime.migration] Will assume non-transactional DDL.\n",
      "INFO  [alembic.runtime.migration] Running upgrade  -> 451aebb31d03, add metric step\n",
      "INFO  [alembic.runtime.migration] Running upgrade 451aebb31d03 -> 90e64c465722, migrate user column to tags\n",
      "INFO  [alembic.runtime.migration] Running upgrade 90e64c465722 -> 181f10493468, allow nulls for metric values\n",
      "INFO  [alembic.runtime.migration] Running upgrade 181f10493468 -> df50e92ffc5e, Add Experiment Tags Table\n",
      "INFO  [alembic.runtime.migration] Running upgrade df50e92ffc5e -> 7ac759974ad8, Update run tags with larger limit\n",
      "INFO  [alembic.runtime.migration] Running upgrade 7ac759974ad8 -> 89d4b8295536, create latest metrics table\n",
      "INFO  [89d4b8295536_create_latest_metrics_table_py] Migration complete!\n",
      "INFO  [alembic.runtime.migration] Running upgrade 89d4b8295536 -> 2b4d017a5e9b, add model registry tables to db\n",
      "INFO  [2b4d017a5e9b_add_model_registry_tables_to_db_py] Adding registered_models and model_versions tables to database.\n",
      "INFO  [2b4d017a5e9b_add_model_registry_tables_to_db_py] Migration complete!\n",
      "INFO  [alembic.runtime.migration] Running upgrade 2b4d017a5e9b -> cfd24bdc0731, Update run status constraint with killed\n",
      "INFO  [alembic.runtime.migration] Running upgrade cfd24bdc0731 -> 0a8213491aaa, drop_duplicate_killed_constraint\n",
      "INFO  [alembic.runtime.migration] Running upgrade 0a8213491aaa -> 728d730b5ebd, add registered model tags table\n",
      "INFO  [alembic.runtime.migration] Running upgrade 728d730b5ebd -> 27a6a02d2cf1, add model version tags table\n",
      "INFO  [alembic.runtime.migration] Running upgrade 27a6a02d2cf1 -> 84291f40a231, add run_link to model_version\n",
      "INFO  [alembic.runtime.migration] Running upgrade 84291f40a231 -> a8c4a736bde6, allow nulls for run_id\n",
      "INFO  [alembic.runtime.migration] Running upgrade a8c4a736bde6 -> 39d1c3be5f05, add_is_nan_constraint_for_metrics_tables_if_necessary\n",
      "INFO  [alembic.runtime.migration] Running upgrade 39d1c3be5f05 -> c48cb773bb87, reset_default_value_for_is_nan_in_metrics_table_for_mysql\n",
      "INFO  [alembic.runtime.migration] Running upgrade c48cb773bb87 -> bd07f7e963c5, create index on run_uuid\n",
      "INFO  [alembic.runtime.migration] Running upgrade bd07f7e963c5 -> 0c779009ac13, add deleted_time field to runs table\n",
      "INFO  [alembic.runtime.migration] Running upgrade 0c779009ac13 -> cc1f77228345, change param value length to 500\n",
      "INFO  [alembic.runtime.migration] Running upgrade cc1f77228345 -> 97727af70f4d, Add creation_time and last_update_time to experiments table\n",
      "INFO  [alembic.runtime.migration] Running upgrade 97727af70f4d -> 3500859a5d39, Add Model Aliases table\n",
      "INFO  [alembic.runtime.migration] Running upgrade 3500859a5d39 -> 7f2a7d5fae7d, add datasets inputs input_tags tables\n",
      "INFO  [alembic.runtime.migration] Running upgrade 7f2a7d5fae7d -> 2d6e25af4d3e, increase max param val length from 500 to 8000\n",
      "INFO  [alembic.runtime.migration] Running upgrade 2d6e25af4d3e -> acf3f17fdcc7, add storage location field to model versions\n",
      "INFO  [alembic.runtime.migration] Running upgrade acf3f17fdcc7 -> 867495a8f9d4, add trace tables\n",
      "INFO  [alembic.runtime.migration] Running upgrade 867495a8f9d4 -> 5b0e9adcef9c, add cascade deletion to trace tables foreign keys\n",
      "INFO  [alembic.runtime.migration] Running upgrade 5b0e9adcef9c -> 4465047574b1, increase max dataset schema size\n",
      "INFO  [alembic.runtime.migration] Running upgrade 4465047574b1 -> f5a4f2784254, increase run tag value limit to 8000\n",
      "INFO  [alembic.runtime.migration] Running upgrade f5a4f2784254 -> 0584bdc529eb, add cascading deletion to datasets from experiments\n",
      "INFO  [alembic.runtime.migration] Context impl SQLiteImpl.\n",
      "INFO  [alembic.runtime.migration] Will assume non-transactional DDL.\n",
      "2025/05/27 11:05:51 INFO mlflow.tracking.fluent: Experiment with name 'hw2-experiment' does not exist. Creating a new experiment.\n"
     ]
    },
    {
     "data": {
      "text/plain": [
       "<Experiment: artifact_location='/workspaces/mlops-zoomcamp/02-experiment-tracking/homework/mlruns/1', creation_time=1748343951432, experiment_id='1', last_update_time=1748343951432, lifecycle_stage='active', name='hw2-experiment', tags={}>"
      ]
     },
     "execution_count": 6,
     "metadata": {},
     "output_type": "execute_result"
    }
   ],
   "source": [
    "import mlflow\n",
    "\n",
    "MLFLOW_TRACKING_URI = 'sqlite:///mlflow.db'\n",
    "MLFLOW_EXPERIMENT_ID = 'hw2-experiment'\n",
    "\n",
    "mlflow.set_tracking_uri(MLFLOW_TRACKING_URI)\n",
    "mlflow.set_experiment(MLFLOW_EXPERIMENT_ID)"
   ]
  },
  {
   "cell_type": "code",
   "execution_count": 7,
   "id": "30080e0d-98af-4c59-b83d-6e8cd6c0bdaa",
   "metadata": {},
   "outputs": [
    {
     "name": "stdout",
     "output_type": "stream",
     "text": [
      "Usage: train.py [OPTIONS]\n",
      "\n",
      "Options:\n",
      "  --data_path TEXT  Location where the processed NYC taxi trip data was saved\n",
      "  --help            Show this message and exit.\n"
     ]
    }
   ],
   "source": [
    "!python train.py --help"
   ]
  },
  {
   "cell_type": "code",
   "execution_count": 8,
   "id": "48fd5692-9fec-4d37-a9c6-aa1aaaa9d1f2",
   "metadata": {},
   "outputs": [],
   "source": [
    "!python train.py --data_path ./data/preprocessed"
   ]
  },
  {
   "cell_type": "code",
   "execution_count": 9,
   "id": "b6356cf0-613c-4c1e-bc25-142f630bbf53",
   "metadata": {},
   "outputs": [
    {
     "data": {
      "text/plain": [
       "[<Experiment: artifact_location='/workspaces/mlops-zoomcamp/02-experiment-tracking/homework/mlruns/1', creation_time=1748343951432, experiment_id='1', last_update_time=1748343951432, lifecycle_stage='active', name='hw2-experiment', tags={}>,\n",
       " <Experiment: artifact_location='/workspaces/mlops-zoomcamp/02-experiment-tracking/homework/mlruns/0', creation_time=1748343951427, experiment_id='0', last_update_time=1748343951427, lifecycle_stage='active', name='Default', tags={}>]"
      ]
     },
     "execution_count": 9,
     "metadata": {},
     "output_type": "execute_result"
    }
   ],
   "source": [
    "from mlflow import MlflowClient\n",
    "\n",
    "client = MlflowClient(tracking_uri=MLFLOW_TRACKING_URI)\n",
    "client.search_experiments()"
   ]
  },
  {
   "cell_type": "code",
   "execution_count": 10,
   "id": "b76fd51c-bc0e-4219-b25d-49832f544c48",
   "metadata": {},
   "outputs": [],
   "source": [
    "from mlflow.entities import ViewType\n",
    "\n",
    "runs = client.search_runs(\n",
    "    experiment_ids='1',                     \n",
    "    filter_string='',                       \n",
    "    run_view_type=ViewType.ACTIVE_ONLY,     \n",
    "    max_results=5,                         \n",
    "    order_by=['attribute.start_time ASC']     \n",
    ")"
   ]
  },
  {
   "cell_type": "code",
   "execution_count": 11,
   "id": "e8639130-f98c-48c5-9219-7f1d316cd28d",
   "metadata": {},
   "outputs": [
    {
     "name": "stdout",
     "output_type": "stream",
     "text": [
      "run id: 25f6053c64e743a09d9ee58b6a0bf597, rmse: 5.2041\n"
     ]
    }
   ],
   "source": [
    "for run in runs:\n",
    "    print(f'run id: {run.info.run_id}, rmse: {run.data.metrics['training_root_mean_squared_error']:.4f}')"
   ]
  },
  {
   "cell_type": "code",
   "execution_count": 12,
   "id": "8cd3def3-5570-48e9-9049-13d214ba7cf1",
   "metadata": {},
   "outputs": [
    {
     "data": {
      "text/plain": [
       "'min_sample_split 2'"
      ]
     },
     "execution_count": 12,
     "metadata": {},
     "output_type": "execute_result"
    }
   ],
   "source": [
    "# first (i.e oldest)\n",
    "f'min_sample_split {runs[0].data.params[\"min_samples_split\"]}'"
   ]
  },
  {
   "cell_type": "markdown",
   "id": "6f46aced-3b26-4a11-b75f-9801f9978b77",
   "metadata": {},
   "source": [
    "### A3. What is the value of the `min_samples_split` parameter?  \n",
    "2"
   ]
  },
  {
   "cell_type": "markdown",
   "id": "b6536fdd-9cc2-402a-a711-3796193d7547",
   "metadata": {},
   "source": [
    "---"
   ]
  },
  {
   "cell_type": "markdown",
   "id": "82f26c9f-6bce-425c-8739-bb12ab17bd6d",
   "metadata": {},
   "source": [
    "## Q4. Launch the tracking server locally\n",
    "Now we want to manage the entire lifecycle of our ML model. In this step, you'll need to launch a tracking server. This way we will also have access to the model registry. \n",
    "\n",
    "Your task is to:\n",
    "\n",
    "* launch the tracking server on your local machine,\n",
    "* select a SQLite db for the backend store and a folder called `artifacts` for the artifacts store.\n",
    "\n",
    "You should keep the tracking server running to work on the next two exercises that use the server.\n",
    "\n",
    "In addition to `backend-store-uri`, what else do you need to pass to properly configure the server?\n",
    "\n",
    "* `default-artifact-root`\n",
    "* `serve-artifacts`\n",
    "* `artifacts-only`\n",
    "* `artifacts-destination`"
   ]
  },
  {
   "cell_type": "code",
   "execution_count": 13,
   "id": "629d1718-bf20-4188-a197-fa78806ec243",
   "metadata": {},
   "outputs": [
    {
     "data": {
      "text/plain": [
       "'\\n    mlflow server --backend-store-uri sqlite:///mlflow.db --default-artifact-root ./artifacts\\n'"
      ]
     },
     "execution_count": 13,
     "metadata": {},
     "output_type": "execute_result"
    }
   ],
   "source": [
    "\"\"\"\n",
    "    mlflow server --backend-store-uri sqlite:///mlflow.db --default-artifact-root ./artifacts\n",
    "\"\"\""
   ]
  },
  {
   "cell_type": "markdown",
   "id": "0895286e-8228-49be-9398-ecea33811ee7",
   "metadata": {},
   "source": [
    "### A4. In addition to `backend-store-uri`, what else do you need to pass to properly configure the server?  \n",
    "default-artifact-root"
   ]
  },
  {
   "cell_type": "markdown",
   "id": "970b28ee-5226-4168-a49a-b8f9b18fa844",
   "metadata": {},
   "source": [
    "---"
   ]
  },
  {
   "cell_type": "markdown",
   "id": "e0383afd-379e-4f5a-9342-4c96b8f6963d",
   "metadata": {},
   "source": [
    "## Q5. Tune model hyperparameters\n",
    "Now let's try to reduce the validation error by tuning the hyperparameters of the `RandomForestRegressor` using `hyperopt`. \n",
    "We have prepared the script `hpo.py` for this exercise. \n",
    "\n",
    "Your task is to modify the script `hpo.py` and make sure that the validation RMSE is logged to the tracking server for each run of the hyperparameter optimization (you will need to add a few lines of code to the `objective` function) and run the script without passing any parameters.\n",
    "\n",
    "After that, open UI and explore the runs from the experiment called `random-forest-hyperopt` to answer the question below.\n",
    "\n",
    "Note: Don't use autologging for this exercise.\n",
    "\n",
    "The idea is to just log the information that you need to answer the question below, including:\n",
    "\n",
    "* the list of hyperparameters that are passed to the `objective` function during the optimization,\n",
    "* the RMSE obtained on the validation set (February 2023 data).\n",
    "\n",
    "What's the best validation RMSE that you got?\n",
    "\n",
    "* 4.817\n",
    "* 5.335\n",
    "* 5.818\n",
    "* 6.336"
   ]
  },
  {
   "cell_type": "code",
   "execution_count": 14,
   "id": "313daa95-0bcf-4ccc-9818-02bbd829cdce",
   "metadata": {},
   "outputs": [
    {
     "name": "stdout",
     "output_type": "stream",
     "text": [
      "2025/05/27 11:06:44 INFO mlflow.tracking.fluent: Experiment with name 'random-forest-hyperopt' does not exist. Creating a new experiment.\n",
      "Usage: hpo.py [OPTIONS]\n",
      "\n",
      "Options:\n",
      "  --data_path TEXT      Location where the processed NYC taxi trip data was\n",
      "                        saved\n",
      "  --num_trials INTEGER  The number of parameter evaluations for the optimizer\n",
      "                        to explore\n",
      "  --help                Show this message and exit.\n"
     ]
    }
   ],
   "source": [
    "!python hpo.py --help"
   ]
  },
  {
   "cell_type": "code",
   "execution_count": 15,
   "id": "768e0a39-f81f-4532-9260-ba11a23919f3",
   "metadata": {},
   "outputs": [
    {
     "name": "stdout",
     "output_type": "stream",
     "text": [
      "🏃 View run traveling-jay-583 at: http://127.0.0.1:5000/#/experiments/2/runs/c0bc675ce99246d88f542d69f6471083\n",
      "\n",
      "🧪 View experiment at: http://127.0.0.1:5000/#/experiments/2                    \n",
      "\n",
      "🏃 View run intrigued-chimp-329 at: http://127.0.0.1:5000/#/experiments/2/runs/b80823cb44b842409d73daf934f1745b\n",
      "\n",
      "🧪 View experiment at: http://127.0.0.1:5000/#/experiments/2                    \n",
      "\n",
      "🏃 View run rare-snail-51 at: http://127.0.0.1:5000/#/experiments/2/runs/8f10a925e1714fd295c3324c76d51e45\n",
      "\n",
      "🧪 View experiment at: http://127.0.0.1:5000/#/experiments/2                    \n",
      "\n",
      "🏃 View run peaceful-wolf-61 at: http://127.0.0.1:5000/#/experiments/2/runs/e77e55634d0f4237bca1016068ecde77\n",
      "\n",
      "🧪 View experiment at: http://127.0.0.1:5000/#/experiments/2                    \n",
      "\n",
      "🏃 View run auspicious-mare-941 at: http://127.0.0.1:5000/#/experiments/2/runs/200e524b2c8840b580ab0381725799f5\n",
      "\n",
      "🧪 View experiment at: http://127.0.0.1:5000/#/experiments/2                    \n",
      "\n",
      "🏃 View run unique-snake-760 at: http://127.0.0.1:5000/#/experiments/2/runs/e9e9cf669a1f4c098ca3b9649e8643ad\n",
      "\n",
      "🧪 View experiment at: http://127.0.0.1:5000/#/experiments/2                    \n",
      "\n",
      "🏃 View run luminous-shrimp-364 at: http://127.0.0.1:5000/#/experiments/2/runs/5022f5bc79c44044b0d715cd509bffeb\n",
      "\n",
      "🧪 View experiment at: http://127.0.0.1:5000/#/experiments/2                    \n",
      "\n",
      "🏃 View run clumsy-crab-731 at: http://127.0.0.1:5000/#/experiments/2/runs/f6c7237435be40aebabeb88cf34f740c\n",
      "\n",
      "🧪 View experiment at: http://127.0.0.1:5000/#/experiments/2                    \n",
      "\n",
      "🏃 View run intrigued-skunk-50 at: http://127.0.0.1:5000/#/experiments/2/runs/de43bac677e34a499a1512a1f9661c70\n",
      "\n",
      "🧪 View experiment at: http://127.0.0.1:5000/#/experiments/2                    \n",
      "\n",
      "🏃 View run unleashed-grouse-430 at: http://127.0.0.1:5000/#/experiments/2/runs/d73beb9b4ca049d998e180d11f9832cb\n",
      "\n",
      "🧪 View experiment at: http://127.0.0.1:5000/#/experiments/2                    \n",
      "\n",
      "🏃 View run unruly-roo-186 at: http://127.0.0.1:5000/#/experiments/2/runs/06fd57d8f6014a66b05d43fd406d61ac\n",
      "\n",
      "🧪 View experiment at: http://127.0.0.1:5000/#/experiments/2                    \n",
      "\n",
      "🏃 View run treasured-moth-236 at: http://127.0.0.1:5000/#/experiments/2/runs/6c69ec1450f5480fb361b6a6e42bbaa6\n",
      "\n",
      "🧪 View experiment at: http://127.0.0.1:5000/#/experiments/2                    \n",
      "\n",
      "🏃 View run handsome-stag-812 at: http://127.0.0.1:5000/#/experiments/2/runs/4af837880be54a0aabe37c7ba5169c49\n",
      "\n",
      "🧪 View experiment at: http://127.0.0.1:5000/#/experiments/2                    \n",
      "\n",
      "🏃 View run fun-perch-278 at: http://127.0.0.1:5000/#/experiments/2/runs/6f36ae4131d04c25a4ac4627769b29f5\n",
      "\n",
      "🧪 View experiment at: http://127.0.0.1:5000/#/experiments/2                    \n",
      "\n",
      "🏃 View run delightful-flea-263 at: http://127.0.0.1:5000/#/experiments/2/runs/0e908f1b238b4bedb4bd8307da35c05a\n",
      "\n",
      "🧪 View experiment at: http://127.0.0.1:5000/#/experiments/2                    \n",
      "\n",
      "100%|██████████| 15/15 [01:06<00:00,  4.45s/trial, best loss: 5.335419588556921]\n"
     ]
    }
   ],
   "source": [
    "!python hpo.py --data_path ./data/preprocessed"
   ]
  },
  {
   "cell_type": "code",
   "execution_count": 16,
   "id": "6ada7fc2-f1d6-44f3-9168-68d52b09f493",
   "metadata": {},
   "outputs": [],
   "source": [
    "runs = client.search_runs(\n",
    "    experiment_ids='2',                     \n",
    "    filter_string='',                       \n",
    "    run_view_type=ViewType.ACTIVE_ONLY,     \n",
    "    max_results=5,                         \n",
    "    order_by=['metrics.rmse ASC'] \n",
    ")"
   ]
  },
  {
   "cell_type": "code",
   "execution_count": 17,
   "id": "a77abf0a-cd62-46d5-8e3e-0342f202867e",
   "metadata": {},
   "outputs": [
    {
     "name": "stdout",
     "output_type": "stream",
     "text": [
      "run id: 06fd57d8f6014a66b05d43fd406d61ac, rmse: 5.3354\n",
      "run id: e9e9cf669a1f4c098ca3b9649e8643ad, rmse: 5.3547\n",
      "run id: 0e908f1b238b4bedb4bd8307da35c05a, rmse: 5.3550\n",
      "run id: e77e55634d0f4237bca1016068ecde77, rmse: 5.3575\n",
      "run id: d73beb9b4ca049d998e180d11f9832cb, rmse: 5.3634\n"
     ]
    }
   ],
   "source": [
    "# top 5\n",
    "for run in runs:\n",
    "    print(f'run id: {run.info.run_id}, rmse: {run.data.metrics['rmse']:.4f}')"
   ]
  },
  {
   "cell_type": "markdown",
   "id": "30d68419-87da-4b33-baff-8e382b9d6ec8",
   "metadata": {},
   "source": [
    "### A5. What's the best validation RMSE that you got?  \n",
    "5.335"
   ]
  },
  {
   "cell_type": "markdown",
   "id": "90db24a0-2cc5-4437-9b21-4871f0eaa13b",
   "metadata": {},
   "source": [
    "---"
   ]
  },
  {
   "cell_type": "markdown",
   "id": "fcbcc467-71f5-48cb-989e-f61d527cd79e",
   "metadata": {},
   "source": [
    "## Q6. Promote the best model to the model registry\n",
    "The results from the hyperparameter optimization are quite good. So, we can assume that we are ready to test some of these models in production. \n",
    "In this exercise, you'll promote the best model to the model registry. We have prepared a script called `register_model.py`, which will check the results from the previous step and select the top 5 runs. \n",
    "After that, it will calculate the RMSE of those models on the test set (March 2023 data) and save the results to a new experiment called `random-forest-best-models`.\n",
    "\n",
    "Your task is to update the script `register_model.py` so that it selects the model with the lowest RMSE on the test set and registers it to the model registry.\n",
    "\n",
    "Tip 1: you can use the method `search_runs` from the `MlflowClient` to get the model with the lowest RMSE,\n",
    "\n",
    "Tip 2: to register the model you can use the method `mlflow.register_model` and you will need to pass the right `model_uri` in the form of a string that looks like this: `\"runs:/<RUN_ID>/model\"`, and the name of the model (make sure to choose a good one!).\n",
    "\n",
    "What is the test RMSE of the best model?\n",
    "\n",
    "* 5.060\n",
    "* 5.567\n",
    "* 6.061\n",
    "* 6.568"
   ]
  },
  {
   "cell_type": "code",
   "execution_count": 18,
   "id": "e321e56a-61df-4977-bb71-060b1c90ab4b",
   "metadata": {},
   "outputs": [
    {
     "name": "stdout",
     "output_type": "stream",
     "text": [
      "Usage: register_model.py [OPTIONS]\n",
      "\n",
      "Options:\n",
      "  --data_path TEXT  Location where the processed NYC taxi trip data was saved\n",
      "  --top_n INTEGER   Number of top models that need to be evaluated to decide\n",
      "                    which one to promote\n",
      "  --help            Show this message and exit.\n"
     ]
    }
   ],
   "source": [
    "!python register_model.py --help"
   ]
  },
  {
   "cell_type": "code",
   "execution_count": 19,
   "id": "cb95b36e-774a-4c71-a3a5-bda85749c57c",
   "metadata": {},
   "outputs": [
    {
     "name": "stdout",
     "output_type": "stream",
     "text": [
      "Searching for top 5 models from random-forest-hyperopt...\n",
      "Found 5 runs from hyperparameter optimization\n",
      "Training model 1/5...\n",
      "2025/05/27 11:07:59 INFO mlflow.tracking.fluent: Experiment with name 'random-forest-best-models' does not exist. Creating a new experiment.\n",
      "\u001b[31m2025/05/27 11:08:07 WARNING mlflow.models.model: Model logged without a signature and input example. Please set `input_example` parameter when logging the model to auto infer the model signature.\u001b[0m\n",
      "Logged model with test_rmse: 5.567408012462019\n",
      "🏃 View run invincible-calf-413 at: http://127.0.0.1:5000/#/experiments/3/runs/0f60aa4678d941ebaa30c931dd2ea8a6\n",
      "🧪 View experiment at: http://127.0.0.1:5000/#/experiments/3\n",
      "Training model 2/5...\n",
      "\u001b[31m2025/05/27 11:08:19 WARNING mlflow.models.model: Model logged without a signature and input example. Please set `input_example` parameter when logging the model to auto infer the model signature.\u001b[0m\n",
      "Logged model with test_rmse: 5.58531221803063\n",
      "🏃 View run bustling-cow-711 at: http://127.0.0.1:5000/#/experiments/3/runs/948b6c565cc34584ae4af2dc6e6b2f68\n",
      "🧪 View experiment at: http://127.0.0.1:5000/#/experiments/3\n",
      "Training model 3/5...\n",
      "\u001b[31m2025/05/27 11:08:27 WARNING mlflow.models.model: Model logged without a signature and input example. Please set `input_example` parameter when logging the model to auto infer the model signature.\u001b[0m\n",
      "Logged model with test_rmse: 5.5921322796760755\n",
      "🏃 View run nervous-wasp-465 at: http://127.0.0.1:5000/#/experiments/3/runs/afe5569e742c47218181393b1490cf12\n",
      "🧪 View experiment at: http://127.0.0.1:5000/#/experiments/3\n",
      "Training model 4/5...\n",
      "\u001b[31m2025/05/27 11:08:36 WARNING mlflow.models.model: Model logged without a signature and input example. Please set `input_example` parameter when logging the model to auto infer the model signature.\u001b[0m\n",
      "Logged model with test_rmse: 5.589460017934324\n",
      "🏃 View run enchanting-grub-846 at: http://127.0.0.1:5000/#/experiments/3/runs/cd8d4a37fdba4f53b44f5016c5a2bd52\n",
      "🧪 View experiment at: http://127.0.0.1:5000/#/experiments/3\n",
      "Training model 5/5...\n",
      "\u001b[31m2025/05/27 11:08:43 WARNING mlflow.models.model: Model logged without a signature and input example. Please set `input_example` parameter when logging the model to auto infer the model signature.\u001b[0m\n",
      "Logged model with test_rmse: 5.5941605655803635\n",
      "🏃 View run bouncy-mule-981 at: http://127.0.0.1:5000/#/experiments/3/runs/5ab0984462954242ba48b61ca6eac17f\n",
      "🧪 View experiment at: http://127.0.0.1:5000/#/experiments/3\n",
      "All 5 models trained and logged to random-forest-best-models\n",
      "Searching for the best model based on test_rmse...\n",
      "Found 5 runs in random-forest-best-models\n",
      "Test RMSE of the best model: 5.567408012462019\n",
      "Registering model with URI: runs:/0f60aa4678d941ebaa30c931dd2ea8a6/model\n",
      "Successfully registered model 'nyc-taxi-predictor'.\n",
      "2025/05/27 11:08:43 INFO mlflow.store.model_registry.abstract_store: Waiting up to 300 seconds for model version to finish creation. Model name: nyc-taxi-predictor, version 1\n",
      "Created version '1' of model 'nyc-taxi-predictor'.\n",
      "Model registered successfully!\n",
      "Run ID: 0f60aa4678d941ebaa30c931dd2ea8a6\n",
      "Test RMSE: 5.567408012462019\n"
     ]
    }
   ],
   "source": [
    "!python register_model.py --data_path ./data/preprocessed"
   ]
  },
  {
   "cell_type": "code",
   "execution_count": 20,
   "id": "4700061e-b607-47e2-bab8-b26262a3fb31",
   "metadata": {},
   "outputs": [
    {
     "data": {
      "text/plain": [
       "[<Experiment: artifact_location='/workspaces/mlops-zoomcamp/02-experiment-tracking/homework/artifacts/3', creation_time=1748344079856, experiment_id='3', last_update_time=1748344079856, lifecycle_stage='active', name='random-forest-best-models', tags={}>,\n",
       " <Experiment: artifact_location='/workspaces/mlops-zoomcamp/02-experiment-tracking/homework/artifacts/2', creation_time=1748344004607, experiment_id='2', last_update_time=1748344004607, lifecycle_stage='active', name='random-forest-hyperopt', tags={}>,\n",
       " <Experiment: artifact_location='/workspaces/mlops-zoomcamp/02-experiment-tracking/homework/mlruns/1', creation_time=1748343951432, experiment_id='1', last_update_time=1748343951432, lifecycle_stage='active', name='hw2-experiment', tags={}>,\n",
       " <Experiment: artifact_location='/workspaces/mlops-zoomcamp/02-experiment-tracking/homework/mlruns/0', creation_time=1748343951427, experiment_id='0', last_update_time=1748343951427, lifecycle_stage='active', name='Default', tags={}>]"
      ]
     },
     "execution_count": 20,
     "metadata": {},
     "output_type": "execute_result"
    }
   ],
   "source": [
    "client.search_experiments()"
   ]
  },
  {
   "cell_type": "code",
   "execution_count": 21,
   "id": "bd8fd532-05f9-45b9-b215-7b09b341ab81",
   "metadata": {},
   "outputs": [],
   "source": [
    "best_test_run = client.search_runs(\n",
    "    experiment_ids='3',                     \n",
    "    order_by=['metrics.test_rmse ASC'] \n",
    ")[0]"
   ]
  },
  {
   "cell_type": "code",
   "execution_count": 22,
   "id": "17c52703-d490-4db7-a573-e91d1c6fa79f",
   "metadata": {},
   "outputs": [
    {
     "data": {
      "text/plain": [
       "'Best model RMSE: 5.567'"
      ]
     },
     "execution_count": 22,
     "metadata": {},
     "output_type": "execute_result"
    }
   ],
   "source": [
    "f'Best model RMSE: {best_test_run.data.metrics['test_rmse']:.3f}'"
   ]
  },
  {
   "cell_type": "markdown",
   "id": "0506fd23-4359-4063-8d00-f33d69377824",
   "metadata": {},
   "source": [
    "### A6. What is the test RMSE of the best model?  \n",
    "5.567"
   ]
  }
 ],
 "metadata": {
  "kernelspec": {
   "display_name": "Python 3 (ipykernel)",
   "language": "python",
   "name": "python3"
  },
  "language_info": {
   "codemirror_mode": {
    "name": "ipython",
    "version": 3
   },
   "file_extension": ".py",
   "mimetype": "text/x-python",
   "name": "python",
   "nbconvert_exporter": "python",
   "pygments_lexer": "ipython3",
   "version": "3.12.1"
  }
 },
 "nbformat": 4,
 "nbformat_minor": 5
}
